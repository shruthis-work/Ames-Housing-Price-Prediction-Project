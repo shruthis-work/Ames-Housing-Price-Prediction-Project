{
 "cells": [
  {
   "cell_type": "markdown",
   "metadata": {},
   "source": [
    "# PROJECT 2"
   ]
  },
  {
   "cell_type": "markdown",
   "metadata": {},
   "source": [
    "The aim is to predict the price of a house at sale based on the Ames Housing Dataset."
   ]
  },
  {
   "cell_type": "code",
   "execution_count": 1,
   "metadata": {},
   "outputs": [],
   "source": [
    "#importing all the libraries\n",
    "import pandas as pd\n",
    "import numpy as np\n",
    "import seaborn as sns\n",
    "from matplotlib import pyplot as plt\n",
    "from sklearn import linear_model\n",
    "from sklearn.model_selection import train_test_split\n",
    "from sklearn.model_selection import KFold\n",
    "from sklearn.model_selection import cross_val_score"
   ]
  },
  {
   "cell_type": "code",
   "execution_count": 2,
   "metadata": {},
   "outputs": [],
   "source": [
    "train_csv = \"C:/Users/Shruthi/Desktop/classes-students/projects1234/project_2/datasets/train.csv\"\n",
    "train = pd.read_csv(train_csv)"
   ]
  },
  {
   "cell_type": "code",
   "execution_count": 3,
   "metadata": {},
   "outputs": [
    {
     "data": {
      "text/html": [
       "<div>\n",
       "<style scoped>\n",
       "    .dataframe tbody tr th:only-of-type {\n",
       "        vertical-align: middle;\n",
       "    }\n",
       "\n",
       "    .dataframe tbody tr th {\n",
       "        vertical-align: top;\n",
       "    }\n",
       "\n",
       "    .dataframe thead th {\n",
       "        text-align: right;\n",
       "    }\n",
       "</style>\n",
       "<table border=\"1\" class=\"dataframe\">\n",
       "  <thead>\n",
       "    <tr style=\"text-align: right;\">\n",
       "      <th></th>\n",
       "      <th>Id</th>\n",
       "      <th>PID</th>\n",
       "      <th>MS SubClass</th>\n",
       "      <th>MS Zoning</th>\n",
       "      <th>Lot Frontage</th>\n",
       "      <th>Lot Area</th>\n",
       "      <th>Street</th>\n",
       "      <th>Alley</th>\n",
       "      <th>Lot Shape</th>\n",
       "      <th>Land Contour</th>\n",
       "      <th>...</th>\n",
       "      <th>Screen Porch</th>\n",
       "      <th>Pool Area</th>\n",
       "      <th>Pool QC</th>\n",
       "      <th>Fence</th>\n",
       "      <th>Misc Feature</th>\n",
       "      <th>Misc Val</th>\n",
       "      <th>Mo Sold</th>\n",
       "      <th>Yr Sold</th>\n",
       "      <th>Sale Type</th>\n",
       "      <th>SalePrice</th>\n",
       "    </tr>\n",
       "  </thead>\n",
       "  <tbody>\n",
       "    <tr>\n",
       "      <th>0</th>\n",
       "      <td>109</td>\n",
       "      <td>533352170</td>\n",
       "      <td>60</td>\n",
       "      <td>RL</td>\n",
       "      <td>NaN</td>\n",
       "      <td>13517</td>\n",
       "      <td>Pave</td>\n",
       "      <td>NaN</td>\n",
       "      <td>IR1</td>\n",
       "      <td>Lvl</td>\n",
       "      <td>...</td>\n",
       "      <td>0</td>\n",
       "      <td>0</td>\n",
       "      <td>NaN</td>\n",
       "      <td>NaN</td>\n",
       "      <td>NaN</td>\n",
       "      <td>0</td>\n",
       "      <td>3</td>\n",
       "      <td>2010</td>\n",
       "      <td>WD</td>\n",
       "      <td>130500</td>\n",
       "    </tr>\n",
       "    <tr>\n",
       "      <th>1</th>\n",
       "      <td>544</td>\n",
       "      <td>531379050</td>\n",
       "      <td>60</td>\n",
       "      <td>RL</td>\n",
       "      <td>43.0</td>\n",
       "      <td>11492</td>\n",
       "      <td>Pave</td>\n",
       "      <td>NaN</td>\n",
       "      <td>IR1</td>\n",
       "      <td>Lvl</td>\n",
       "      <td>...</td>\n",
       "      <td>0</td>\n",
       "      <td>0</td>\n",
       "      <td>NaN</td>\n",
       "      <td>NaN</td>\n",
       "      <td>NaN</td>\n",
       "      <td>0</td>\n",
       "      <td>4</td>\n",
       "      <td>2009</td>\n",
       "      <td>WD</td>\n",
       "      <td>220000</td>\n",
       "    </tr>\n",
       "    <tr>\n",
       "      <th>2</th>\n",
       "      <td>153</td>\n",
       "      <td>535304180</td>\n",
       "      <td>20</td>\n",
       "      <td>RL</td>\n",
       "      <td>68.0</td>\n",
       "      <td>7922</td>\n",
       "      <td>Pave</td>\n",
       "      <td>NaN</td>\n",
       "      <td>Reg</td>\n",
       "      <td>Lvl</td>\n",
       "      <td>...</td>\n",
       "      <td>0</td>\n",
       "      <td>0</td>\n",
       "      <td>NaN</td>\n",
       "      <td>NaN</td>\n",
       "      <td>NaN</td>\n",
       "      <td>0</td>\n",
       "      <td>1</td>\n",
       "      <td>2010</td>\n",
       "      <td>WD</td>\n",
       "      <td>109000</td>\n",
       "    </tr>\n",
       "    <tr>\n",
       "      <th>3</th>\n",
       "      <td>318</td>\n",
       "      <td>916386060</td>\n",
       "      <td>60</td>\n",
       "      <td>RL</td>\n",
       "      <td>73.0</td>\n",
       "      <td>9802</td>\n",
       "      <td>Pave</td>\n",
       "      <td>NaN</td>\n",
       "      <td>Reg</td>\n",
       "      <td>Lvl</td>\n",
       "      <td>...</td>\n",
       "      <td>0</td>\n",
       "      <td>0</td>\n",
       "      <td>NaN</td>\n",
       "      <td>NaN</td>\n",
       "      <td>NaN</td>\n",
       "      <td>0</td>\n",
       "      <td>4</td>\n",
       "      <td>2010</td>\n",
       "      <td>WD</td>\n",
       "      <td>174000</td>\n",
       "    </tr>\n",
       "    <tr>\n",
       "      <th>4</th>\n",
       "      <td>255</td>\n",
       "      <td>906425045</td>\n",
       "      <td>50</td>\n",
       "      <td>RL</td>\n",
       "      <td>82.0</td>\n",
       "      <td>14235</td>\n",
       "      <td>Pave</td>\n",
       "      <td>NaN</td>\n",
       "      <td>IR1</td>\n",
       "      <td>Lvl</td>\n",
       "      <td>...</td>\n",
       "      <td>0</td>\n",
       "      <td>0</td>\n",
       "      <td>NaN</td>\n",
       "      <td>NaN</td>\n",
       "      <td>NaN</td>\n",
       "      <td>0</td>\n",
       "      <td>3</td>\n",
       "      <td>2010</td>\n",
       "      <td>WD</td>\n",
       "      <td>138500</td>\n",
       "    </tr>\n",
       "  </tbody>\n",
       "</table>\n",
       "<p>5 rows × 81 columns</p>\n",
       "</div>"
      ],
      "text/plain": [
       "    Id        PID  MS SubClass MS Zoning  Lot Frontage  Lot Area Street Alley  \\\n",
       "0  109  533352170           60        RL           NaN     13517   Pave   NaN   \n",
       "1  544  531379050           60        RL          43.0     11492   Pave   NaN   \n",
       "2  153  535304180           20        RL          68.0      7922   Pave   NaN   \n",
       "3  318  916386060           60        RL          73.0      9802   Pave   NaN   \n",
       "4  255  906425045           50        RL          82.0     14235   Pave   NaN   \n",
       "\n",
       "  Lot Shape Land Contour  ... Screen Porch Pool Area Pool QC Fence  \\\n",
       "0       IR1          Lvl  ...            0         0     NaN   NaN   \n",
       "1       IR1          Lvl  ...            0         0     NaN   NaN   \n",
       "2       Reg          Lvl  ...            0         0     NaN   NaN   \n",
       "3       Reg          Lvl  ...            0         0     NaN   NaN   \n",
       "4       IR1          Lvl  ...            0         0     NaN   NaN   \n",
       "\n",
       "  Misc Feature Misc Val Mo Sold Yr Sold  Sale Type  SalePrice  \n",
       "0          NaN        0       3    2010        WD      130500  \n",
       "1          NaN        0       4    2009        WD      220000  \n",
       "2          NaN        0       1    2010        WD      109000  \n",
       "3          NaN        0       4    2010        WD      174000  \n",
       "4          NaN        0       3    2010        WD      138500  \n",
       "\n",
       "[5 rows x 81 columns]"
      ]
     },
     "execution_count": 3,
     "metadata": {},
     "output_type": "execute_result"
    }
   ],
   "source": [
    "train.head()"
   ]
  },
  {
   "cell_type": "markdown",
   "metadata": {},
   "source": [
    "For feature selection of all the numerical categories I am going to see which categories affect the sales price of the house by checking the co-relation matrix"
   ]
  },
  {
   "cell_type": "code",
   "execution_count": 4,
   "metadata": {
    "scrolled": true
   },
   "outputs": [
    {
     "data": {
      "text/html": [
       "<div>\n",
       "<style scoped>\n",
       "    .dataframe tbody tr th:only-of-type {\n",
       "        vertical-align: middle;\n",
       "    }\n",
       "\n",
       "    .dataframe tbody tr th {\n",
       "        vertical-align: top;\n",
       "    }\n",
       "\n",
       "    .dataframe thead th {\n",
       "        text-align: right;\n",
       "    }\n",
       "</style>\n",
       "<table border=\"1\" class=\"dataframe\">\n",
       "  <thead>\n",
       "    <tr style=\"text-align: right;\">\n",
       "      <th></th>\n",
       "      <th>Id</th>\n",
       "      <th>PID</th>\n",
       "      <th>MS SubClass</th>\n",
       "      <th>Lot Frontage</th>\n",
       "      <th>Lot Area</th>\n",
       "      <th>Overall Qual</th>\n",
       "      <th>Overall Cond</th>\n",
       "      <th>Year Built</th>\n",
       "      <th>Year Remod/Add</th>\n",
       "      <th>Mas Vnr Area</th>\n",
       "      <th>...</th>\n",
       "      <th>Wood Deck SF</th>\n",
       "      <th>Open Porch SF</th>\n",
       "      <th>Enclosed Porch</th>\n",
       "      <th>3Ssn Porch</th>\n",
       "      <th>Screen Porch</th>\n",
       "      <th>Pool Area</th>\n",
       "      <th>Misc Val</th>\n",
       "      <th>Mo Sold</th>\n",
       "      <th>Yr Sold</th>\n",
       "      <th>SalePrice</th>\n",
       "    </tr>\n",
       "  </thead>\n",
       "  <tbody>\n",
       "    <tr>\n",
       "      <th>Id</th>\n",
       "      <td>1.000000</td>\n",
       "      <td>0.175793</td>\n",
       "      <td>0.026543</td>\n",
       "      <td>-0.024967</td>\n",
       "      <td>0.032872</td>\n",
       "      <td>-0.061483</td>\n",
       "      <td>-0.026096</td>\n",
       "      <td>-0.064444</td>\n",
       "      <td>-0.090040</td>\n",
       "      <td>-0.035493</td>\n",
       "      <td>...</td>\n",
       "      <td>-0.009045</td>\n",
       "      <td>0.001382</td>\n",
       "      <td>0.033747</td>\n",
       "      <td>-0.022791</td>\n",
       "      <td>0.009758</td>\n",
       "      <td>0.055696</td>\n",
       "      <td>-0.012683</td>\n",
       "      <td>0.127723</td>\n",
       "      <td>-0.975747</td>\n",
       "      <td>-0.051398</td>\n",
       "    </tr>\n",
       "    <tr>\n",
       "      <th>PID</th>\n",
       "      <td>0.175793</td>\n",
       "      <td>1.000000</td>\n",
       "      <td>-0.003632</td>\n",
       "      <td>-0.091291</td>\n",
       "      <td>0.024135</td>\n",
       "      <td>-0.265863</td>\n",
       "      <td>0.106861</td>\n",
       "      <td>-0.347039</td>\n",
       "      <td>-0.176666</td>\n",
       "      <td>-0.247959</td>\n",
       "      <td>...</td>\n",
       "      <td>-0.041221</td>\n",
       "      <td>-0.081129</td>\n",
       "      <td>0.150179</td>\n",
       "      <td>-0.024679</td>\n",
       "      <td>-0.042030</td>\n",
       "      <td>0.005825</td>\n",
       "      <td>0.004223</td>\n",
       "      <td>-0.032735</td>\n",
       "      <td>0.008476</td>\n",
       "      <td>-0.255052</td>\n",
       "    </tr>\n",
       "    <tr>\n",
       "      <th>MS SubClass</th>\n",
       "      <td>0.026543</td>\n",
       "      <td>-0.003632</td>\n",
       "      <td>1.000000</td>\n",
       "      <td>-0.389790</td>\n",
       "      <td>-0.245484</td>\n",
       "      <td>0.035763</td>\n",
       "      <td>-0.070141</td>\n",
       "      <td>0.035983</td>\n",
       "      <td>0.044836</td>\n",
       "      <td>-0.004047</td>\n",
       "      <td>...</td>\n",
       "      <td>0.001622</td>\n",
       "      <td>-0.020289</td>\n",
       "      <td>-0.039842</td>\n",
       "      <td>-0.030088</td>\n",
       "      <td>-0.038819</td>\n",
       "      <td>-0.004585</td>\n",
       "      <td>-0.027485</td>\n",
       "      <td>0.013027</td>\n",
       "      <td>-0.032870</td>\n",
       "      <td>-0.087335</td>\n",
       "    </tr>\n",
       "    <tr>\n",
       "      <th>Lot Frontage</th>\n",
       "      <td>-0.024967</td>\n",
       "      <td>-0.091291</td>\n",
       "      <td>-0.389790</td>\n",
       "      <td>1.000000</td>\n",
       "      <td>0.574024</td>\n",
       "      <td>0.194808</td>\n",
       "      <td>-0.054455</td>\n",
       "      <td>0.109504</td>\n",
       "      <td>0.085052</td>\n",
       "      <td>0.218218</td>\n",
       "      <td>...</td>\n",
       "      <td>0.115180</td>\n",
       "      <td>0.184958</td>\n",
       "      <td>-0.003302</td>\n",
       "      <td>0.031855</td>\n",
       "      <td>0.074819</td>\n",
       "      <td>0.156575</td>\n",
       "      <td>0.051676</td>\n",
       "      <td>-0.017389</td>\n",
       "      <td>0.009112</td>\n",
       "      <td>0.341842</td>\n",
       "    </tr>\n",
       "    <tr>\n",
       "      <th>Lot Area</th>\n",
       "      <td>0.032872</td>\n",
       "      <td>0.024135</td>\n",
       "      <td>-0.245484</td>\n",
       "      <td>0.574024</td>\n",
       "      <td>1.000000</td>\n",
       "      <td>0.105824</td>\n",
       "      <td>-0.019185</td>\n",
       "      <td>0.036002</td>\n",
       "      <td>0.050771</td>\n",
       "      <td>0.169379</td>\n",
       "      <td>...</td>\n",
       "      <td>0.155623</td>\n",
       "      <td>0.140864</td>\n",
       "      <td>0.014139</td>\n",
       "      <td>0.019553</td>\n",
       "      <td>0.067714</td>\n",
       "      <td>0.115102</td>\n",
       "      <td>0.093922</td>\n",
       "      <td>0.003197</td>\n",
       "      <td>-0.029454</td>\n",
       "      <td>0.296566</td>\n",
       "    </tr>\n",
       "    <tr>\n",
       "      <th>Overall Qual</th>\n",
       "      <td>-0.061483</td>\n",
       "      <td>-0.265863</td>\n",
       "      <td>0.035763</td>\n",
       "      <td>0.194808</td>\n",
       "      <td>0.105824</td>\n",
       "      <td>1.000000</td>\n",
       "      <td>-0.082770</td>\n",
       "      <td>0.602964</td>\n",
       "      <td>0.584654</td>\n",
       "      <td>0.438685</td>\n",
       "      <td>...</td>\n",
       "      <td>0.257081</td>\n",
       "      <td>0.308855</td>\n",
       "      <td>-0.154554</td>\n",
       "      <td>0.031938</td>\n",
       "      <td>0.048752</td>\n",
       "      <td>0.006558</td>\n",
       "      <td>0.022099</td>\n",
       "      <td>0.019242</td>\n",
       "      <td>-0.011578</td>\n",
       "      <td>0.800207</td>\n",
       "    </tr>\n",
       "    <tr>\n",
       "      <th>Overall Cond</th>\n",
       "      <td>-0.026096</td>\n",
       "      <td>0.106861</td>\n",
       "      <td>-0.070141</td>\n",
       "      <td>-0.054455</td>\n",
       "      <td>-0.019185</td>\n",
       "      <td>-0.082770</td>\n",
       "      <td>1.000000</td>\n",
       "      <td>-0.370988</td>\n",
       "      <td>0.042614</td>\n",
       "      <td>-0.135878</td>\n",
       "      <td>...</td>\n",
       "      <td>0.011034</td>\n",
       "      <td>-0.052266</td>\n",
       "      <td>0.108320</td>\n",
       "      <td>0.026907</td>\n",
       "      <td>0.047359</td>\n",
       "      <td>-0.005806</td>\n",
       "      <td>0.014269</td>\n",
       "      <td>-0.003144</td>\n",
       "      <td>0.047664</td>\n",
       "      <td>-0.097019</td>\n",
       "    </tr>\n",
       "    <tr>\n",
       "      <th>Year Built</th>\n",
       "      <td>-0.064444</td>\n",
       "      <td>-0.347039</td>\n",
       "      <td>0.035983</td>\n",
       "      <td>0.109504</td>\n",
       "      <td>0.036002</td>\n",
       "      <td>0.602964</td>\n",
       "      <td>-0.370988</td>\n",
       "      <td>1.000000</td>\n",
       "      <td>0.629116</td>\n",
       "      <td>0.329741</td>\n",
       "      <td>...</td>\n",
       "      <td>0.216339</td>\n",
       "      <td>0.207798</td>\n",
       "      <td>-0.380082</td>\n",
       "      <td>0.016104</td>\n",
       "      <td>-0.037866</td>\n",
       "      <td>0.003728</td>\n",
       "      <td>0.000626</td>\n",
       "      <td>-0.007083</td>\n",
       "      <td>-0.003559</td>\n",
       "      <td>0.571849</td>\n",
       "    </tr>\n",
       "    <tr>\n",
       "      <th>Year Remod/Add</th>\n",
       "      <td>-0.090040</td>\n",
       "      <td>-0.176666</td>\n",
       "      <td>0.044836</td>\n",
       "      <td>0.085052</td>\n",
       "      <td>0.050771</td>\n",
       "      <td>0.584654</td>\n",
       "      <td>0.042614</td>\n",
       "      <td>0.629116</td>\n",
       "      <td>1.000000</td>\n",
       "      <td>0.211443</td>\n",
       "      <td>...</td>\n",
       "      <td>0.216271</td>\n",
       "      <td>0.264476</td>\n",
       "      <td>-0.237523</td>\n",
       "      <td>0.040416</td>\n",
       "      <td>-0.041211</td>\n",
       "      <td>-0.022382</td>\n",
       "      <td>-0.001704</td>\n",
       "      <td>0.011568</td>\n",
       "      <td>0.042744</td>\n",
       "      <td>0.550370</td>\n",
       "    </tr>\n",
       "    <tr>\n",
       "      <th>Mas Vnr Area</th>\n",
       "      <td>-0.035493</td>\n",
       "      <td>-0.247959</td>\n",
       "      <td>-0.004047</td>\n",
       "      <td>0.218218</td>\n",
       "      <td>0.169379</td>\n",
       "      <td>0.438685</td>\n",
       "      <td>-0.135878</td>\n",
       "      <td>0.329741</td>\n",
       "      <td>0.211443</td>\n",
       "      <td>1.000000</td>\n",
       "      <td>...</td>\n",
       "      <td>0.163584</td>\n",
       "      <td>0.163489</td>\n",
       "      <td>-0.107104</td>\n",
       "      <td>0.011161</td>\n",
       "      <td>0.086631</td>\n",
       "      <td>0.012422</td>\n",
       "      <td>0.079219</td>\n",
       "      <td>-0.001472</td>\n",
       "      <td>-0.018719</td>\n",
       "      <td>0.512230</td>\n",
       "    </tr>\n",
       "    <tr>\n",
       "      <th>BsmtFin SF 1</th>\n",
       "      <td>-0.045878</td>\n",
       "      <td>-0.086522</td>\n",
       "      <td>-0.060854</td>\n",
       "      <td>0.214178</td>\n",
       "      <td>0.215430</td>\n",
       "      <td>0.278742</td>\n",
       "      <td>-0.045768</td>\n",
       "      <td>0.275440</td>\n",
       "      <td>0.166680</td>\n",
       "      <td>0.321807</td>\n",
       "      <td>...</td>\n",
       "      <td>0.214274</td>\n",
       "      <td>0.140286</td>\n",
       "      <td>-0.076963</td>\n",
       "      <td>0.047719</td>\n",
       "      <td>0.093226</td>\n",
       "      <td>0.075925</td>\n",
       "      <td>0.130042</td>\n",
       "      <td>-0.010534</td>\n",
       "      <td>0.037978</td>\n",
       "      <td>0.423519</td>\n",
       "    </tr>\n",
       "    <tr>\n",
       "      <th>BsmtFin SF 2</th>\n",
       "      <td>0.000723</td>\n",
       "      <td>-0.013144</td>\n",
       "      <td>-0.068265</td>\n",
       "      <td>0.036740</td>\n",
       "      <td>0.041717</td>\n",
       "      <td>-0.028199</td>\n",
       "      <td>0.047810</td>\n",
       "      <td>-0.021031</td>\n",
       "      <td>-0.057163</td>\n",
       "      <td>-0.016756</td>\n",
       "      <td>...</td>\n",
       "      <td>0.105836</td>\n",
       "      <td>-0.004382</td>\n",
       "      <td>0.004540</td>\n",
       "      <td>-0.024225</td>\n",
       "      <td>0.096405</td>\n",
       "      <td>0.061026</td>\n",
       "      <td>-0.005515</td>\n",
       "      <td>-0.013945</td>\n",
       "      <td>-0.000013</td>\n",
       "      <td>0.016255</td>\n",
       "    </tr>\n",
       "    <tr>\n",
       "      <th>Bsmt Unf SF</th>\n",
       "      <td>0.008555</td>\n",
       "      <td>-0.111281</td>\n",
       "      <td>-0.139911</td>\n",
       "      <td>0.127605</td>\n",
       "      <td>0.041184</td>\n",
       "      <td>0.275773</td>\n",
       "      <td>-0.130521</td>\n",
       "      <td>0.136662</td>\n",
       "      <td>0.160066</td>\n",
       "      <td>0.085853</td>\n",
       "      <td>...</td>\n",
       "      <td>-0.034438</td>\n",
       "      <td>0.116019</td>\n",
       "      <td>-0.010847</td>\n",
       "      <td>0.020409</td>\n",
       "      <td>-0.055558</td>\n",
       "      <td>-0.039209</td>\n",
       "      <td>-0.005888</td>\n",
       "      <td>0.020043</td>\n",
       "      <td>-0.043683</td>\n",
       "      <td>0.190210</td>\n",
       "    </tr>\n",
       "    <tr>\n",
       "      <th>Total Bsmt SF</th>\n",
       "      <td>-0.038346</td>\n",
       "      <td>-0.203795</td>\n",
       "      <td>-0.226038</td>\n",
       "      <td>0.356584</td>\n",
       "      <td>0.277175</td>\n",
       "      <td>0.548742</td>\n",
       "      <td>-0.158643</td>\n",
       "      <td>0.410254</td>\n",
       "      <td>0.308545</td>\n",
       "      <td>0.408575</td>\n",
       "      <td>...</td>\n",
       "      <td>0.224659</td>\n",
       "      <td>0.257227</td>\n",
       "      <td>-0.088055</td>\n",
       "      <td>0.060283</td>\n",
       "      <td>0.076061</td>\n",
       "      <td>0.061503</td>\n",
       "      <td>0.125600</td>\n",
       "      <td>0.003915</td>\n",
       "      <td>-0.004280</td>\n",
       "      <td>0.628925</td>\n",
       "    </tr>\n",
       "    <tr>\n",
       "      <th>1st Flr SF</th>\n",
       "      <td>-0.022650</td>\n",
       "      <td>-0.145862</td>\n",
       "      <td>-0.246212</td>\n",
       "      <td>0.463900</td>\n",
       "      <td>0.381593</td>\n",
       "      <td>0.477136</td>\n",
       "      <td>-0.150938</td>\n",
       "      <td>0.323315</td>\n",
       "      <td>0.244190</td>\n",
       "      <td>0.391349</td>\n",
       "      <td>...</td>\n",
       "      <td>0.226243</td>\n",
       "      <td>0.259072</td>\n",
       "      <td>-0.044032</td>\n",
       "      <td>0.066991</td>\n",
       "      <td>0.089140</td>\n",
       "      <td>0.129995</td>\n",
       "      <td>0.139496</td>\n",
       "      <td>0.027038</td>\n",
       "      <td>-0.007432</td>\n",
       "      <td>0.618486</td>\n",
       "    </tr>\n",
       "    <tr>\n",
       "      <th>2nd Flr SF</th>\n",
       "      <td>-0.008388</td>\n",
       "      <td>-0.005598</td>\n",
       "      <td>0.305771</td>\n",
       "      <td>0.013700</td>\n",
       "      <td>0.029398</td>\n",
       "      <td>0.228152</td>\n",
       "      <td>0.010912</td>\n",
       "      <td>0.022313</td>\n",
       "      <td>0.159605</td>\n",
       "      <td>0.100568</td>\n",
       "      <td>...</td>\n",
       "      <td>0.109070</td>\n",
       "      <td>0.165080</td>\n",
       "      <td>0.021083</td>\n",
       "      <td>-0.033167</td>\n",
       "      <td>0.035105</td>\n",
       "      <td>0.012642</td>\n",
       "      <td>0.004413</td>\n",
       "      <td>0.030248</td>\n",
       "      <td>-0.011915</td>\n",
       "      <td>0.248452</td>\n",
       "    </tr>\n",
       "    <tr>\n",
       "      <th>Low Qual Fin SF</th>\n",
       "      <td>0.011719</td>\n",
       "      <td>0.072268</td>\n",
       "      <td>0.031091</td>\n",
       "      <td>-0.000300</td>\n",
       "      <td>0.001273</td>\n",
       "      <td>-0.052338</td>\n",
       "      <td>0.004753</td>\n",
       "      <td>-0.159403</td>\n",
       "      <td>-0.066577</td>\n",
       "      <td>-0.061878</td>\n",
       "      <td>...</td>\n",
       "      <td>-0.017246</td>\n",
       "      <td>-0.006253</td>\n",
       "      <td>0.089883</td>\n",
       "      <td>-0.003461</td>\n",
       "      <td>0.014218</td>\n",
       "      <td>-0.006854</td>\n",
       "      <td>-0.005756</td>\n",
       "      <td>0.024471</td>\n",
       "      <td>0.001288</td>\n",
       "      <td>-0.041594</td>\n",
       "    </tr>\n",
       "    <tr>\n",
       "      <th>Gr Liv Area</th>\n",
       "      <td>-0.023881</td>\n",
       "      <td>-0.112936</td>\n",
       "      <td>0.068210</td>\n",
       "      <td>0.383856</td>\n",
       "      <td>0.327427</td>\n",
       "      <td>0.566701</td>\n",
       "      <td>-0.109804</td>\n",
       "      <td>0.258838</td>\n",
       "      <td>0.322407</td>\n",
       "      <td>0.387833</td>\n",
       "      <td>...</td>\n",
       "      <td>0.270239</td>\n",
       "      <td>0.345008</td>\n",
       "      <td>-0.007777</td>\n",
       "      <td>0.024504</td>\n",
       "      <td>0.101926</td>\n",
       "      <td>0.113034</td>\n",
       "      <td>0.113673</td>\n",
       "      <td>0.049644</td>\n",
       "      <td>-0.015891</td>\n",
       "      <td>0.697038</td>\n",
       "    </tr>\n",
       "    <tr>\n",
       "      <th>Bsmt Full Bath</th>\n",
       "      <td>-0.033385</td>\n",
       "      <td>-0.030554</td>\n",
       "      <td>0.025055</td>\n",
       "      <td>0.111441</td>\n",
       "      <td>0.116128</td>\n",
       "      <td>0.175171</td>\n",
       "      <td>-0.039113</td>\n",
       "      <td>0.215200</td>\n",
       "      <td>0.153507</td>\n",
       "      <td>0.148049</td>\n",
       "      <td>...</td>\n",
       "      <td>0.196886</td>\n",
       "      <td>0.090170</td>\n",
       "      <td>-0.073358</td>\n",
       "      <td>0.022972</td>\n",
       "      <td>0.055399</td>\n",
       "      <td>0.043704</td>\n",
       "      <td>-0.003515</td>\n",
       "      <td>-0.009609</td>\n",
       "      <td>0.035344</td>\n",
       "      <td>0.283662</td>\n",
       "    </tr>\n",
       "    <tr>\n",
       "      <th>Bsmt Half Bath</th>\n",
       "      <td>0.014381</td>\n",
       "      <td>-0.001946</td>\n",
       "      <td>-0.017249</td>\n",
       "      <td>-0.030858</td>\n",
       "      <td>0.029980</td>\n",
       "      <td>-0.047318</td>\n",
       "      <td>0.100324</td>\n",
       "      <td>-0.031464</td>\n",
       "      <td>-0.037923</td>\n",
       "      <td>0.010220</td>\n",
       "      <td>...</td>\n",
       "      <td>0.031754</td>\n",
       "      <td>-0.032635</td>\n",
       "      <td>-0.012093</td>\n",
       "      <td>0.030571</td>\n",
       "      <td>0.037595</td>\n",
       "      <td>0.066097</td>\n",
       "      <td>0.050212</td>\n",
       "      <td>0.026370</td>\n",
       "      <td>-0.010072</td>\n",
       "      <td>-0.045328</td>\n",
       "    </tr>\n",
       "    <tr>\n",
       "      <th>Full Bath</th>\n",
       "      <td>-0.059086</td>\n",
       "      <td>-0.179370</td>\n",
       "      <td>0.142087</td>\n",
       "      <td>0.152812</td>\n",
       "      <td>0.125601</td>\n",
       "      <td>0.515080</td>\n",
       "      <td>-0.219189</td>\n",
       "      <td>0.480169</td>\n",
       "      <td>0.471555</td>\n",
       "      <td>0.240034</td>\n",
       "      <td>...</td>\n",
       "      <td>0.175502</td>\n",
       "      <td>0.244452</td>\n",
       "      <td>-0.125383</td>\n",
       "      <td>0.027870</td>\n",
       "      <td>-0.014296</td>\n",
       "      <td>0.010458</td>\n",
       "      <td>0.003293</td>\n",
       "      <td>0.049390</td>\n",
       "      <td>0.007140</td>\n",
       "      <td>0.537969</td>\n",
       "    </tr>\n",
       "    <tr>\n",
       "      <th>Half Bath</th>\n",
       "      <td>-0.042054</td>\n",
       "      <td>-0.163975</td>\n",
       "      <td>0.179404</td>\n",
       "      <td>0.035842</td>\n",
       "      <td>0.049995</td>\n",
       "      <td>0.274859</td>\n",
       "      <td>-0.093266</td>\n",
       "      <td>0.283207</td>\n",
       "      <td>0.224106</td>\n",
       "      <td>0.192687</td>\n",
       "      <td>...</td>\n",
       "      <td>0.125241</td>\n",
       "      <td>0.181469</td>\n",
       "      <td>-0.100591</td>\n",
       "      <td>-0.027131</td>\n",
       "      <td>0.046712</td>\n",
       "      <td>0.001294</td>\n",
       "      <td>0.055789</td>\n",
       "      <td>0.010521</td>\n",
       "      <td>0.001987</td>\n",
       "      <td>0.283001</td>\n",
       "    </tr>\n",
       "    <tr>\n",
       "      <th>Bedroom AbvGr</th>\n",
       "      <td>0.010605</td>\n",
       "      <td>0.009122</td>\n",
       "      <td>-0.003516</td>\n",
       "      <td>0.220414</td>\n",
       "      <td>0.139060</td>\n",
       "      <td>0.053373</td>\n",
       "      <td>-0.009908</td>\n",
       "      <td>-0.042149</td>\n",
       "      <td>-0.019748</td>\n",
       "      <td>0.054589</td>\n",
       "      <td>...</td>\n",
       "      <td>0.034758</td>\n",
       "      <td>0.053433</td>\n",
       "      <td>0.033030</td>\n",
       "      <td>-0.033802</td>\n",
       "      <td>0.019606</td>\n",
       "      <td>0.027438</td>\n",
       "      <td>0.012274</td>\n",
       "      <td>0.068281</td>\n",
       "      <td>-0.011692</td>\n",
       "      <td>0.137067</td>\n",
       "    </tr>\n",
       "    <tr>\n",
       "      <th>Kitchen AbvGr</th>\n",
       "      <td>-0.002400</td>\n",
       "      <td>0.068416</td>\n",
       "      <td>0.252111</td>\n",
       "      <td>0.015856</td>\n",
       "      <td>-0.013484</td>\n",
       "      <td>-0.170964</td>\n",
       "      <td>-0.095725</td>\n",
       "      <td>-0.127162</td>\n",
       "      <td>-0.135926</td>\n",
       "      <td>-0.070677</td>\n",
       "      <td>...</td>\n",
       "      <td>-0.090013</td>\n",
       "      <td>-0.083502</td>\n",
       "      <td>0.016189</td>\n",
       "      <td>-0.021017</td>\n",
       "      <td>-0.058886</td>\n",
       "      <td>-0.012986</td>\n",
       "      <td>0.031474</td>\n",
       "      <td>0.047143</td>\n",
       "      <td>0.020800</td>\n",
       "      <td>-0.125444</td>\n",
       "    </tr>\n",
       "    <tr>\n",
       "      <th>TotRms AbvGrd</th>\n",
       "      <td>-0.009092</td>\n",
       "      <td>-0.084999</td>\n",
       "      <td>0.034490</td>\n",
       "      <td>0.362704</td>\n",
       "      <td>0.238724</td>\n",
       "      <td>0.382025</td>\n",
       "      <td>-0.093576</td>\n",
       "      <td>0.137783</td>\n",
       "      <td>0.202397</td>\n",
       "      <td>0.273359</td>\n",
       "      <td>...</td>\n",
       "      <td>0.182835</td>\n",
       "      <td>0.226346</td>\n",
       "      <td>0.005521</td>\n",
       "      <td>-0.008101</td>\n",
       "      <td>0.046329</td>\n",
       "      <td>0.072500</td>\n",
       "      <td>0.100175</td>\n",
       "      <td>0.054154</td>\n",
       "      <td>-0.022041</td>\n",
       "      <td>0.504014</td>\n",
       "    </tr>\n",
       "    <tr>\n",
       "      <th>Fireplaces</th>\n",
       "      <td>-0.037560</td>\n",
       "      <td>-0.120710</td>\n",
       "      <td>-0.055118</td>\n",
       "      <td>0.253456</td>\n",
       "      <td>0.289467</td>\n",
       "      <td>0.388920</td>\n",
       "      <td>-0.006463</td>\n",
       "      <td>0.168848</td>\n",
       "      <td>0.138858</td>\n",
       "      <td>0.269104</td>\n",
       "      <td>...</td>\n",
       "      <td>0.238887</td>\n",
       "      <td>0.169169</td>\n",
       "      <td>0.009368</td>\n",
       "      <td>0.026411</td>\n",
       "      <td>0.167071</td>\n",
       "      <td>0.107769</td>\n",
       "      <td>0.023372</td>\n",
       "      <td>0.018228</td>\n",
       "      <td>0.006887</td>\n",
       "      <td>0.471093</td>\n",
       "    </tr>\n",
       "    <tr>\n",
       "      <th>Garage Yr Blt</th>\n",
       "      <td>-0.050730</td>\n",
       "      <td>-0.251257</td>\n",
       "      <td>0.084954</td>\n",
       "      <td>0.067865</td>\n",
       "      <td>0.004882</td>\n",
       "      <td>0.574553</td>\n",
       "      <td>-0.331765</td>\n",
       "      <td>0.825316</td>\n",
       "      <td>0.674024</td>\n",
       "      <td>0.266763</td>\n",
       "      <td>...</td>\n",
       "      <td>0.221800</td>\n",
       "      <td>0.225691</td>\n",
       "      <td>-0.296218</td>\n",
       "      <td>0.025013</td>\n",
       "      <td>-0.054368</td>\n",
       "      <td>-0.013425</td>\n",
       "      <td>0.004736</td>\n",
       "      <td>0.013538</td>\n",
       "      <td>-0.005346</td>\n",
       "      <td>0.533922</td>\n",
       "    </tr>\n",
       "    <tr>\n",
       "      <th>Garage Cars</th>\n",
       "      <td>-0.048666</td>\n",
       "      <td>-0.228368</td>\n",
       "      <td>-0.049148</td>\n",
       "      <td>0.297143</td>\n",
       "      <td>0.214954</td>\n",
       "      <td>0.587423</td>\n",
       "      <td>-0.168513</td>\n",
       "      <td>0.542544</td>\n",
       "      <td>0.441796</td>\n",
       "      <td>0.361211</td>\n",
       "      <td>...</td>\n",
       "      <td>0.240721</td>\n",
       "      <td>0.215364</td>\n",
       "      <td>-0.139608</td>\n",
       "      <td>0.028393</td>\n",
       "      <td>0.053582</td>\n",
       "      <td>0.021566</td>\n",
       "      <td>0.003053</td>\n",
       "      <td>0.020801</td>\n",
       "      <td>-0.009996</td>\n",
       "      <td>0.648220</td>\n",
       "    </tr>\n",
       "    <tr>\n",
       "      <th>Garage Area</th>\n",
       "      <td>-0.045201</td>\n",
       "      <td>-0.200891</td>\n",
       "      <td>-0.108228</td>\n",
       "      <td>0.358457</td>\n",
       "      <td>0.263296</td>\n",
       "      <td>0.563814</td>\n",
       "      <td>-0.137917</td>\n",
       "      <td>0.487177</td>\n",
       "      <td>0.398999</td>\n",
       "      <td>0.384718</td>\n",
       "      <td>...</td>\n",
       "      <td>0.245513</td>\n",
       "      <td>0.247222</td>\n",
       "      <td>-0.112353</td>\n",
       "      <td>0.043918</td>\n",
       "      <td>0.071067</td>\n",
       "      <td>0.045876</td>\n",
       "      <td>0.033641</td>\n",
       "      <td>0.009964</td>\n",
       "      <td>-0.003589</td>\n",
       "      <td>0.650270</td>\n",
       "    </tr>\n",
       "    <tr>\n",
       "      <th>Wood Deck SF</th>\n",
       "      <td>-0.009045</td>\n",
       "      <td>-0.041221</td>\n",
       "      <td>0.001622</td>\n",
       "      <td>0.115180</td>\n",
       "      <td>0.155623</td>\n",
       "      <td>0.257081</td>\n",
       "      <td>0.011034</td>\n",
       "      <td>0.216339</td>\n",
       "      <td>0.216271</td>\n",
       "      <td>0.163584</td>\n",
       "      <td>...</td>\n",
       "      <td>1.000000</td>\n",
       "      <td>0.047630</td>\n",
       "      <td>-0.114079</td>\n",
       "      <td>-0.010851</td>\n",
       "      <td>-0.067770</td>\n",
       "      <td>0.128373</td>\n",
       "      <td>0.085091</td>\n",
       "      <td>0.018500</td>\n",
       "      <td>-0.000912</td>\n",
       "      <td>0.326490</td>\n",
       "    </tr>\n",
       "    <tr>\n",
       "      <th>Open Porch SF</th>\n",
       "      <td>0.001382</td>\n",
       "      <td>-0.081129</td>\n",
       "      <td>-0.020289</td>\n",
       "      <td>0.184958</td>\n",
       "      <td>0.140864</td>\n",
       "      <td>0.308855</td>\n",
       "      <td>-0.052266</td>\n",
       "      <td>0.207798</td>\n",
       "      <td>0.264476</td>\n",
       "      <td>0.163489</td>\n",
       "      <td>...</td>\n",
       "      <td>0.047630</td>\n",
       "      <td>1.000000</td>\n",
       "      <td>-0.077019</td>\n",
       "      <td>-0.007336</td>\n",
       "      <td>0.059027</td>\n",
       "      <td>0.073965</td>\n",
       "      <td>0.109919</td>\n",
       "      <td>0.043632</td>\n",
       "      <td>-0.025895</td>\n",
       "      <td>0.333476</td>\n",
       "    </tr>\n",
       "    <tr>\n",
       "      <th>Enclosed Porch</th>\n",
       "      <td>0.033747</td>\n",
       "      <td>0.150179</td>\n",
       "      <td>-0.039842</td>\n",
       "      <td>-0.003302</td>\n",
       "      <td>0.014139</td>\n",
       "      <td>-0.154554</td>\n",
       "      <td>0.108320</td>\n",
       "      <td>-0.380082</td>\n",
       "      <td>-0.237523</td>\n",
       "      <td>-0.107104</td>\n",
       "      <td>...</td>\n",
       "      <td>-0.114079</td>\n",
       "      <td>-0.077019</td>\n",
       "      <td>1.000000</td>\n",
       "      <td>-0.032145</td>\n",
       "      <td>-0.069049</td>\n",
       "      <td>-0.015636</td>\n",
       "      <td>0.015049</td>\n",
       "      <td>0.004455</td>\n",
       "      <td>-0.006256</td>\n",
       "      <td>-0.135656</td>\n",
       "    </tr>\n",
       "    <tr>\n",
       "      <th>3Ssn Porch</th>\n",
       "      <td>-0.022791</td>\n",
       "      <td>-0.024679</td>\n",
       "      <td>-0.030088</td>\n",
       "      <td>0.031855</td>\n",
       "      <td>0.019553</td>\n",
       "      <td>0.031938</td>\n",
       "      <td>0.026907</td>\n",
       "      <td>0.016104</td>\n",
       "      <td>0.040416</td>\n",
       "      <td>0.011161</td>\n",
       "      <td>...</td>\n",
       "      <td>-0.010851</td>\n",
       "      <td>-0.007336</td>\n",
       "      <td>-0.032145</td>\n",
       "      <td>1.000000</td>\n",
       "      <td>-0.029574</td>\n",
       "      <td>-0.006522</td>\n",
       "      <td>-0.004887</td>\n",
       "      <td>0.020036</td>\n",
       "      <td>0.019424</td>\n",
       "      <td>0.048732</td>\n",
       "    </tr>\n",
       "    <tr>\n",
       "      <th>Screen Porch</th>\n",
       "      <td>0.009758</td>\n",
       "      <td>-0.042030</td>\n",
       "      <td>-0.038819</td>\n",
       "      <td>0.074819</td>\n",
       "      <td>0.067714</td>\n",
       "      <td>0.048752</td>\n",
       "      <td>0.047359</td>\n",
       "      <td>-0.037866</td>\n",
       "      <td>-0.041211</td>\n",
       "      <td>0.086631</td>\n",
       "      <td>...</td>\n",
       "      <td>-0.067770</td>\n",
       "      <td>0.059027</td>\n",
       "      <td>-0.069049</td>\n",
       "      <td>-0.029574</td>\n",
       "      <td>1.000000</td>\n",
       "      <td>0.033114</td>\n",
       "      <td>0.007122</td>\n",
       "      <td>0.029329</td>\n",
       "      <td>-0.017624</td>\n",
       "      <td>0.134581</td>\n",
       "    </tr>\n",
       "    <tr>\n",
       "      <th>Pool Area</th>\n",
       "      <td>0.055696</td>\n",
       "      <td>0.005825</td>\n",
       "      <td>-0.004585</td>\n",
       "      <td>0.156575</td>\n",
       "      <td>0.115102</td>\n",
       "      <td>0.006558</td>\n",
       "      <td>-0.005806</td>\n",
       "      <td>0.003728</td>\n",
       "      <td>-0.022382</td>\n",
       "      <td>0.012422</td>\n",
       "      <td>...</td>\n",
       "      <td>0.128373</td>\n",
       "      <td>0.073965</td>\n",
       "      <td>-0.015636</td>\n",
       "      <td>-0.006522</td>\n",
       "      <td>0.033114</td>\n",
       "      <td>1.000000</td>\n",
       "      <td>0.017661</td>\n",
       "      <td>-0.043118</td>\n",
       "      <td>-0.053768</td>\n",
       "      <td>0.023106</td>\n",
       "    </tr>\n",
       "    <tr>\n",
       "      <th>Misc Val</th>\n",
       "      <td>-0.012683</td>\n",
       "      <td>0.004223</td>\n",
       "      <td>-0.027485</td>\n",
       "      <td>0.051676</td>\n",
       "      <td>0.093922</td>\n",
       "      <td>0.022099</td>\n",
       "      <td>0.014269</td>\n",
       "      <td>0.000626</td>\n",
       "      <td>-0.001704</td>\n",
       "      <td>0.079219</td>\n",
       "      <td>...</td>\n",
       "      <td>0.085091</td>\n",
       "      <td>0.109919</td>\n",
       "      <td>0.015049</td>\n",
       "      <td>-0.004887</td>\n",
       "      <td>0.007122</td>\n",
       "      <td>0.017661</td>\n",
       "      <td>1.000000</td>\n",
       "      <td>0.019483</td>\n",
       "      <td>0.017269</td>\n",
       "      <td>-0.007375</td>\n",
       "    </tr>\n",
       "    <tr>\n",
       "      <th>Mo Sold</th>\n",
       "      <td>0.127723</td>\n",
       "      <td>-0.032735</td>\n",
       "      <td>0.013027</td>\n",
       "      <td>-0.017389</td>\n",
       "      <td>0.003197</td>\n",
       "      <td>0.019242</td>\n",
       "      <td>-0.003144</td>\n",
       "      <td>-0.007083</td>\n",
       "      <td>0.011568</td>\n",
       "      <td>-0.001472</td>\n",
       "      <td>...</td>\n",
       "      <td>0.018500</td>\n",
       "      <td>0.043632</td>\n",
       "      <td>0.004455</td>\n",
       "      <td>0.020036</td>\n",
       "      <td>0.029329</td>\n",
       "      <td>-0.043118</td>\n",
       "      <td>0.019483</td>\n",
       "      <td>1.000000</td>\n",
       "      <td>-0.147494</td>\n",
       "      <td>0.032735</td>\n",
       "    </tr>\n",
       "    <tr>\n",
       "      <th>Yr Sold</th>\n",
       "      <td>-0.975747</td>\n",
       "      <td>0.008476</td>\n",
       "      <td>-0.032870</td>\n",
       "      <td>0.009112</td>\n",
       "      <td>-0.029454</td>\n",
       "      <td>-0.011578</td>\n",
       "      <td>0.047664</td>\n",
       "      <td>-0.003559</td>\n",
       "      <td>0.042744</td>\n",
       "      <td>-0.018719</td>\n",
       "      <td>...</td>\n",
       "      <td>-0.000912</td>\n",
       "      <td>-0.025895</td>\n",
       "      <td>-0.006256</td>\n",
       "      <td>0.019424</td>\n",
       "      <td>-0.017624</td>\n",
       "      <td>-0.053768</td>\n",
       "      <td>0.017269</td>\n",
       "      <td>-0.147494</td>\n",
       "      <td>1.000000</td>\n",
       "      <td>-0.015203</td>\n",
       "    </tr>\n",
       "    <tr>\n",
       "      <th>SalePrice</th>\n",
       "      <td>-0.051398</td>\n",
       "      <td>-0.255052</td>\n",
       "      <td>-0.087335</td>\n",
       "      <td>0.341842</td>\n",
       "      <td>0.296566</td>\n",
       "      <td>0.800207</td>\n",
       "      <td>-0.097019</td>\n",
       "      <td>0.571849</td>\n",
       "      <td>0.550370</td>\n",
       "      <td>0.512230</td>\n",
       "      <td>...</td>\n",
       "      <td>0.326490</td>\n",
       "      <td>0.333476</td>\n",
       "      <td>-0.135656</td>\n",
       "      <td>0.048732</td>\n",
       "      <td>0.134581</td>\n",
       "      <td>0.023106</td>\n",
       "      <td>-0.007375</td>\n",
       "      <td>0.032735</td>\n",
       "      <td>-0.015203</td>\n",
       "      <td>1.000000</td>\n",
       "    </tr>\n",
       "  </tbody>\n",
       "</table>\n",
       "<p>39 rows × 39 columns</p>\n",
       "</div>"
      ],
      "text/plain": [
       "                       Id       PID  MS SubClass  Lot Frontage  Lot Area  \\\n",
       "Id               1.000000  0.175793     0.026543     -0.024967  0.032872   \n",
       "PID              0.175793  1.000000    -0.003632     -0.091291  0.024135   \n",
       "MS SubClass      0.026543 -0.003632     1.000000     -0.389790 -0.245484   \n",
       "Lot Frontage    -0.024967 -0.091291    -0.389790      1.000000  0.574024   \n",
       "Lot Area         0.032872  0.024135    -0.245484      0.574024  1.000000   \n",
       "Overall Qual    -0.061483 -0.265863     0.035763      0.194808  0.105824   \n",
       "Overall Cond    -0.026096  0.106861    -0.070141     -0.054455 -0.019185   \n",
       "Year Built      -0.064444 -0.347039     0.035983      0.109504  0.036002   \n",
       "Year Remod/Add  -0.090040 -0.176666     0.044836      0.085052  0.050771   \n",
       "Mas Vnr Area    -0.035493 -0.247959    -0.004047      0.218218  0.169379   \n",
       "BsmtFin SF 1    -0.045878 -0.086522    -0.060854      0.214178  0.215430   \n",
       "BsmtFin SF 2     0.000723 -0.013144    -0.068265      0.036740  0.041717   \n",
       "Bsmt Unf SF      0.008555 -0.111281    -0.139911      0.127605  0.041184   \n",
       "Total Bsmt SF   -0.038346 -0.203795    -0.226038      0.356584  0.277175   \n",
       "1st Flr SF      -0.022650 -0.145862    -0.246212      0.463900  0.381593   \n",
       "2nd Flr SF      -0.008388 -0.005598     0.305771      0.013700  0.029398   \n",
       "Low Qual Fin SF  0.011719  0.072268     0.031091     -0.000300  0.001273   \n",
       "Gr Liv Area     -0.023881 -0.112936     0.068210      0.383856  0.327427   \n",
       "Bsmt Full Bath  -0.033385 -0.030554     0.025055      0.111441  0.116128   \n",
       "Bsmt Half Bath   0.014381 -0.001946    -0.017249     -0.030858  0.029980   \n",
       "Full Bath       -0.059086 -0.179370     0.142087      0.152812  0.125601   \n",
       "Half Bath       -0.042054 -0.163975     0.179404      0.035842  0.049995   \n",
       "Bedroom AbvGr    0.010605  0.009122    -0.003516      0.220414  0.139060   \n",
       "Kitchen AbvGr   -0.002400  0.068416     0.252111      0.015856 -0.013484   \n",
       "TotRms AbvGrd   -0.009092 -0.084999     0.034490      0.362704  0.238724   \n",
       "Fireplaces      -0.037560 -0.120710    -0.055118      0.253456  0.289467   \n",
       "Garage Yr Blt   -0.050730 -0.251257     0.084954      0.067865  0.004882   \n",
       "Garage Cars     -0.048666 -0.228368    -0.049148      0.297143  0.214954   \n",
       "Garage Area     -0.045201 -0.200891    -0.108228      0.358457  0.263296   \n",
       "Wood Deck SF    -0.009045 -0.041221     0.001622      0.115180  0.155623   \n",
       "Open Porch SF    0.001382 -0.081129    -0.020289      0.184958  0.140864   \n",
       "Enclosed Porch   0.033747  0.150179    -0.039842     -0.003302  0.014139   \n",
       "3Ssn Porch      -0.022791 -0.024679    -0.030088      0.031855  0.019553   \n",
       "Screen Porch     0.009758 -0.042030    -0.038819      0.074819  0.067714   \n",
       "Pool Area        0.055696  0.005825    -0.004585      0.156575  0.115102   \n",
       "Misc Val        -0.012683  0.004223    -0.027485      0.051676  0.093922   \n",
       "Mo Sold          0.127723 -0.032735     0.013027     -0.017389  0.003197   \n",
       "Yr Sold         -0.975747  0.008476    -0.032870      0.009112 -0.029454   \n",
       "SalePrice       -0.051398 -0.255052    -0.087335      0.341842  0.296566   \n",
       "\n",
       "                 Overall Qual  Overall Cond  Year Built  Year Remod/Add  \\\n",
       "Id                  -0.061483     -0.026096   -0.064444       -0.090040   \n",
       "PID                 -0.265863      0.106861   -0.347039       -0.176666   \n",
       "MS SubClass          0.035763     -0.070141    0.035983        0.044836   \n",
       "Lot Frontage         0.194808     -0.054455    0.109504        0.085052   \n",
       "Lot Area             0.105824     -0.019185    0.036002        0.050771   \n",
       "Overall Qual         1.000000     -0.082770    0.602964        0.584654   \n",
       "Overall Cond        -0.082770      1.000000   -0.370988        0.042614   \n",
       "Year Built           0.602964     -0.370988    1.000000        0.629116   \n",
       "Year Remod/Add       0.584654      0.042614    0.629116        1.000000   \n",
       "Mas Vnr Area         0.438685     -0.135878    0.329741        0.211443   \n",
       "BsmtFin SF 1         0.278742     -0.045768    0.275440        0.166680   \n",
       "BsmtFin SF 2        -0.028199      0.047810   -0.021031       -0.057163   \n",
       "Bsmt Unf SF          0.275773     -0.130521    0.136662        0.160066   \n",
       "Total Bsmt SF        0.548742     -0.158643    0.410254        0.308545   \n",
       "1st Flr SF           0.477136     -0.150938    0.323315        0.244190   \n",
       "2nd Flr SF           0.228152      0.010912    0.022313        0.159605   \n",
       "Low Qual Fin SF     -0.052338      0.004753   -0.159403       -0.066577   \n",
       "Gr Liv Area          0.566701     -0.109804    0.258838        0.322407   \n",
       "Bsmt Full Bath       0.175171     -0.039113    0.215200        0.153507   \n",
       "Bsmt Half Bath      -0.047318      0.100324   -0.031464       -0.037923   \n",
       "Full Bath            0.515080     -0.219189    0.480169        0.471555   \n",
       "Half Bath            0.274859     -0.093266    0.283207        0.224106   \n",
       "Bedroom AbvGr        0.053373     -0.009908   -0.042149       -0.019748   \n",
       "Kitchen AbvGr       -0.170964     -0.095725   -0.127162       -0.135926   \n",
       "TotRms AbvGrd        0.382025     -0.093576    0.137783        0.202397   \n",
       "Fireplaces           0.388920     -0.006463    0.168848        0.138858   \n",
       "Garage Yr Blt        0.574553     -0.331765    0.825316        0.674024   \n",
       "Garage Cars          0.587423     -0.168513    0.542544        0.441796   \n",
       "Garage Area          0.563814     -0.137917    0.487177        0.398999   \n",
       "Wood Deck SF         0.257081      0.011034    0.216339        0.216271   \n",
       "Open Porch SF        0.308855     -0.052266    0.207798        0.264476   \n",
       "Enclosed Porch      -0.154554      0.108320   -0.380082       -0.237523   \n",
       "3Ssn Porch           0.031938      0.026907    0.016104        0.040416   \n",
       "Screen Porch         0.048752      0.047359   -0.037866       -0.041211   \n",
       "Pool Area            0.006558     -0.005806    0.003728       -0.022382   \n",
       "Misc Val             0.022099      0.014269    0.000626       -0.001704   \n",
       "Mo Sold              0.019242     -0.003144   -0.007083        0.011568   \n",
       "Yr Sold             -0.011578      0.047664   -0.003559        0.042744   \n",
       "SalePrice            0.800207     -0.097019    0.571849        0.550370   \n",
       "\n",
       "                 Mas Vnr Area  ...  Wood Deck SF  Open Porch SF  \\\n",
       "Id                  -0.035493  ...     -0.009045       0.001382   \n",
       "PID                 -0.247959  ...     -0.041221      -0.081129   \n",
       "MS SubClass         -0.004047  ...      0.001622      -0.020289   \n",
       "Lot Frontage         0.218218  ...      0.115180       0.184958   \n",
       "Lot Area             0.169379  ...      0.155623       0.140864   \n",
       "Overall Qual         0.438685  ...      0.257081       0.308855   \n",
       "Overall Cond        -0.135878  ...      0.011034      -0.052266   \n",
       "Year Built           0.329741  ...      0.216339       0.207798   \n",
       "Year Remod/Add       0.211443  ...      0.216271       0.264476   \n",
       "Mas Vnr Area         1.000000  ...      0.163584       0.163489   \n",
       "BsmtFin SF 1         0.321807  ...      0.214274       0.140286   \n",
       "BsmtFin SF 2        -0.016756  ...      0.105836      -0.004382   \n",
       "Bsmt Unf SF          0.085853  ...     -0.034438       0.116019   \n",
       "Total Bsmt SF        0.408575  ...      0.224659       0.257227   \n",
       "1st Flr SF           0.391349  ...      0.226243       0.259072   \n",
       "2nd Flr SF           0.100568  ...      0.109070       0.165080   \n",
       "Low Qual Fin SF     -0.061878  ...     -0.017246      -0.006253   \n",
       "Gr Liv Area          0.387833  ...      0.270239       0.345008   \n",
       "Bsmt Full Bath       0.148049  ...      0.196886       0.090170   \n",
       "Bsmt Half Bath       0.010220  ...      0.031754      -0.032635   \n",
       "Full Bath            0.240034  ...      0.175502       0.244452   \n",
       "Half Bath            0.192687  ...      0.125241       0.181469   \n",
       "Bedroom AbvGr        0.054589  ...      0.034758       0.053433   \n",
       "Kitchen AbvGr       -0.070677  ...     -0.090013      -0.083502   \n",
       "TotRms AbvGrd        0.273359  ...      0.182835       0.226346   \n",
       "Fireplaces           0.269104  ...      0.238887       0.169169   \n",
       "Garage Yr Blt        0.266763  ...      0.221800       0.225691   \n",
       "Garage Cars          0.361211  ...      0.240721       0.215364   \n",
       "Garage Area          0.384718  ...      0.245513       0.247222   \n",
       "Wood Deck SF         0.163584  ...      1.000000       0.047630   \n",
       "Open Porch SF        0.163489  ...      0.047630       1.000000   \n",
       "Enclosed Porch      -0.107104  ...     -0.114079      -0.077019   \n",
       "3Ssn Porch           0.011161  ...     -0.010851      -0.007336   \n",
       "Screen Porch         0.086631  ...     -0.067770       0.059027   \n",
       "Pool Area            0.012422  ...      0.128373       0.073965   \n",
       "Misc Val             0.079219  ...      0.085091       0.109919   \n",
       "Mo Sold             -0.001472  ...      0.018500       0.043632   \n",
       "Yr Sold             -0.018719  ...     -0.000912      -0.025895   \n",
       "SalePrice            0.512230  ...      0.326490       0.333476   \n",
       "\n",
       "                 Enclosed Porch  3Ssn Porch  Screen Porch  Pool Area  \\\n",
       "Id                     0.033747   -0.022791      0.009758   0.055696   \n",
       "PID                    0.150179   -0.024679     -0.042030   0.005825   \n",
       "MS SubClass           -0.039842   -0.030088     -0.038819  -0.004585   \n",
       "Lot Frontage          -0.003302    0.031855      0.074819   0.156575   \n",
       "Lot Area               0.014139    0.019553      0.067714   0.115102   \n",
       "Overall Qual          -0.154554    0.031938      0.048752   0.006558   \n",
       "Overall Cond           0.108320    0.026907      0.047359  -0.005806   \n",
       "Year Built            -0.380082    0.016104     -0.037866   0.003728   \n",
       "Year Remod/Add        -0.237523    0.040416     -0.041211  -0.022382   \n",
       "Mas Vnr Area          -0.107104    0.011161      0.086631   0.012422   \n",
       "BsmtFin SF 1          -0.076963    0.047719      0.093226   0.075925   \n",
       "BsmtFin SF 2           0.004540   -0.024225      0.096405   0.061026   \n",
       "Bsmt Unf SF           -0.010847    0.020409     -0.055558  -0.039209   \n",
       "Total Bsmt SF         -0.088055    0.060283      0.076061   0.061503   \n",
       "1st Flr SF            -0.044032    0.066991      0.089140   0.129995   \n",
       "2nd Flr SF             0.021083   -0.033167      0.035105   0.012642   \n",
       "Low Qual Fin SF        0.089883   -0.003461      0.014218  -0.006854   \n",
       "Gr Liv Area           -0.007777    0.024504      0.101926   0.113034   \n",
       "Bsmt Full Bath        -0.073358    0.022972      0.055399   0.043704   \n",
       "Bsmt Half Bath        -0.012093    0.030571      0.037595   0.066097   \n",
       "Full Bath             -0.125383    0.027870     -0.014296   0.010458   \n",
       "Half Bath             -0.100591   -0.027131      0.046712   0.001294   \n",
       "Bedroom AbvGr          0.033030   -0.033802      0.019606   0.027438   \n",
       "Kitchen AbvGr          0.016189   -0.021017     -0.058886  -0.012986   \n",
       "TotRms AbvGrd          0.005521   -0.008101      0.046329   0.072500   \n",
       "Fireplaces             0.009368    0.026411      0.167071   0.107769   \n",
       "Garage Yr Blt         -0.296218    0.025013     -0.054368  -0.013425   \n",
       "Garage Cars           -0.139608    0.028393      0.053582   0.021566   \n",
       "Garage Area           -0.112353    0.043918      0.071067   0.045876   \n",
       "Wood Deck SF          -0.114079   -0.010851     -0.067770   0.128373   \n",
       "Open Porch SF         -0.077019   -0.007336      0.059027   0.073965   \n",
       "Enclosed Porch         1.000000   -0.032145     -0.069049  -0.015636   \n",
       "3Ssn Porch            -0.032145    1.000000     -0.029574  -0.006522   \n",
       "Screen Porch          -0.069049   -0.029574      1.000000   0.033114   \n",
       "Pool Area             -0.015636   -0.006522      0.033114   1.000000   \n",
       "Misc Val               0.015049   -0.004887      0.007122   0.017661   \n",
       "Mo Sold                0.004455    0.020036      0.029329  -0.043118   \n",
       "Yr Sold               -0.006256    0.019424     -0.017624  -0.053768   \n",
       "SalePrice             -0.135656    0.048732      0.134581   0.023106   \n",
       "\n",
       "                 Misc Val   Mo Sold   Yr Sold  SalePrice  \n",
       "Id              -0.012683  0.127723 -0.975747  -0.051398  \n",
       "PID              0.004223 -0.032735  0.008476  -0.255052  \n",
       "MS SubClass     -0.027485  0.013027 -0.032870  -0.087335  \n",
       "Lot Frontage     0.051676 -0.017389  0.009112   0.341842  \n",
       "Lot Area         0.093922  0.003197 -0.029454   0.296566  \n",
       "Overall Qual     0.022099  0.019242 -0.011578   0.800207  \n",
       "Overall Cond     0.014269 -0.003144  0.047664  -0.097019  \n",
       "Year Built       0.000626 -0.007083 -0.003559   0.571849  \n",
       "Year Remod/Add  -0.001704  0.011568  0.042744   0.550370  \n",
       "Mas Vnr Area     0.079219 -0.001472 -0.018719   0.512230  \n",
       "BsmtFin SF 1     0.130042 -0.010534  0.037978   0.423519  \n",
       "BsmtFin SF 2    -0.005515 -0.013945 -0.000013   0.016255  \n",
       "Bsmt Unf SF     -0.005888  0.020043 -0.043683   0.190210  \n",
       "Total Bsmt SF    0.125600  0.003915 -0.004280   0.628925  \n",
       "1st Flr SF       0.139496  0.027038 -0.007432   0.618486  \n",
       "2nd Flr SF       0.004413  0.030248 -0.011915   0.248452  \n",
       "Low Qual Fin SF -0.005756  0.024471  0.001288  -0.041594  \n",
       "Gr Liv Area      0.113673  0.049644 -0.015891   0.697038  \n",
       "Bsmt Full Bath  -0.003515 -0.009609  0.035344   0.283662  \n",
       "Bsmt Half Bath   0.050212  0.026370 -0.010072  -0.045328  \n",
       "Full Bath        0.003293  0.049390  0.007140   0.537969  \n",
       "Half Bath        0.055789  0.010521  0.001987   0.283001  \n",
       "Bedroom AbvGr    0.012274  0.068281 -0.011692   0.137067  \n",
       "Kitchen AbvGr    0.031474  0.047143  0.020800  -0.125444  \n",
       "TotRms AbvGrd    0.100175  0.054154 -0.022041   0.504014  \n",
       "Fireplaces       0.023372  0.018228  0.006887   0.471093  \n",
       "Garage Yr Blt    0.004736  0.013538 -0.005346   0.533922  \n",
       "Garage Cars      0.003053  0.020801 -0.009996   0.648220  \n",
       "Garage Area      0.033641  0.009964 -0.003589   0.650270  \n",
       "Wood Deck SF     0.085091  0.018500 -0.000912   0.326490  \n",
       "Open Porch SF    0.109919  0.043632 -0.025895   0.333476  \n",
       "Enclosed Porch   0.015049  0.004455 -0.006256  -0.135656  \n",
       "3Ssn Porch      -0.004887  0.020036  0.019424   0.048732  \n",
       "Screen Porch     0.007122  0.029329 -0.017624   0.134581  \n",
       "Pool Area        0.017661 -0.043118 -0.053768   0.023106  \n",
       "Misc Val         1.000000  0.019483  0.017269  -0.007375  \n",
       "Mo Sold          0.019483  1.000000 -0.147494   0.032735  \n",
       "Yr Sold          0.017269 -0.147494  1.000000  -0.015203  \n",
       "SalePrice       -0.007375  0.032735 -0.015203   1.000000  \n",
       "\n",
       "[39 rows x 39 columns]"
      ]
     },
     "execution_count": 4,
     "metadata": {},
     "output_type": "execute_result"
    }
   ],
   "source": [
    "\n",
    "train.corr()"
   ]
  },
  {
   "cell_type": "markdown",
   "metadata": {},
   "source": [
    "I have picked all the columns that have a co-relation factor of more than 0.5 , with the sales-price. \n",
    "THESE COLUMNS GO INTO MY FEATURE MATRIX"
   ]
  },
  {
   "cell_type": "code",
   "execution_count": 5,
   "metadata": {},
   "outputs": [],
   "source": [
    "\n",
    "df = train[[\"Overall Qual\", \"Total Bsmt SF\",\"1st Flr SF\",\"Gr Liv Area\", \"Garage Cars\", \"Garage Area\", \"Garage Yr Blt\",\"TotRms AbvGrd\",\"Full Bath\" , \"Mas Vnr Area\", \"Year Remod/Add\" ,\"Year Built\",\"SalePrice\",'2nd Flr SF','Bsmt Unf SF',\"MS Zoning\",\"Street\",\"Kitchen Qual\", \"Exter Qual\"]]"
   ]
  },
  {
   "cell_type": "code",
   "execution_count": 6,
   "metadata": {},
   "outputs": [
    {
     "data": {
      "text/plain": [
       "<matplotlib.axes._subplots.AxesSubplot at 0x28728271b00>"
      ]
     },
     "execution_count": 6,
     "metadata": {},
     "output_type": "execute_result"
    },
    {
     "data": {
      "image/png": "[encoded data removed]",
      "text/plain": [
       "<Figure size 1152x432 with 2 Axes>"
      ]
     },
     "metadata": {
      "needs_background": "light"
     },
     "output_type": "display_data"
    }
   ],
   "source": [
    "#this is the co-relation matrix of my current feature matrix\n",
    "plt.figure(figsize=(16, 6))\n",
    "sns.heatmap(df.corr(),annot=True)"
   ]
  },
  {
   "cell_type": "code",
   "execution_count": 7,
   "metadata": {},
   "outputs": [
    {
     "data": {
      "text/plain": [
       "Overall Qual        0\n",
       "Total Bsmt SF       1\n",
       "1st Flr SF          0\n",
       "Gr Liv Area         0\n",
       "Garage Cars         1\n",
       "Garage Area         1\n",
       "Garage Yr Blt     114\n",
       "TotRms AbvGrd       0\n",
       "Full Bath           0\n",
       "Mas Vnr Area       22\n",
       "Year Remod/Add      0\n",
       "Year Built          0\n",
       "SalePrice           0\n",
       "2nd Flr SF          0\n",
       "Bsmt Unf SF         1\n",
       "MS Zoning           0\n",
       "Street              0\n",
       "Kitchen Qual        0\n",
       "Exter Qual          0\n",
       "dtype: int64"
      ]
     },
     "execution_count": 7,
     "metadata": {},
     "output_type": "execute_result"
    }
   ],
   "source": [
    "#checking how many total null values in the dataset\n",
    "df.isnull().sum()"
   ]
  },
  {
   "cell_type": "markdown",
   "metadata": {},
   "source": [
    "To clean up my data I am going to remove my outliers and fill out the null values by drawing boxplots for each of the columns in my feature matrix"
   ]
  },
  {
   "cell_type": "code",
   "execution_count": 8,
   "metadata": {},
   "outputs": [
    {
     "data": {
      "text/plain": [
       "<matplotlib.axes._subplots.AxesSubplot at 0x2872880b128>"
      ]
     },
     "execution_count": 8,
     "metadata": {},
     "output_type": "execute_result"
    },
    {
     "data": {
      "image/png": "[encoded data removed]",
      "text/plain": [
       "<Figure size 1152x432 with 1 Axes>"
      ]
     },
     "metadata": {
      "needs_background": "light"
     },
     "output_type": "display_data"
    }
   ],
   "source": [
    "#this boxplot is for the first feature overall quality\n",
    "plt.figure(figsize=(16, 6))\n",
    "sns.boxplot(x=df[\"Overall Qual\"])"
   ]
  },
  {
   "cell_type": "code",
   "execution_count": 9,
   "metadata": {},
   "outputs": [],
   "source": [
    "#any house lower than an overall quality of 2 is not eligible for sale\n",
    "df = df[df[\"Overall Qual\"]>=2]"
   ]
  },
  {
   "cell_type": "code",
   "execution_count": 10,
   "metadata": {},
   "outputs": [
    {
     "data": {
      "text/plain": [
       "<matplotlib.axes._subplots.AxesSubplot at 0x287287d8fd0>"
      ]
     },
     "execution_count": 10,
     "metadata": {},
     "output_type": "execute_result"
    },
    {
     "data": {
      "image/png": "[encoded data removed]",
      "text/plain": [
       "<Figure size 432x288 with 1 Axes>"
      ]
     },
     "metadata": {
      "needs_background": "light"
     },
     "output_type": "display_data"
    }
   ],
   "source": [
    "sns.boxplot(x=df[\"1st Flr SF\"])"
   ]
  },
  {
   "cell_type": "code",
   "execution_count": 11,
   "metadata": {},
   "outputs": [],
   "source": [
    "#houses with a 1st floor square feet of more than 3000 are assumed to be wrongly entered into the database\n",
    "df = df[df[\"1st Flr SF\"]<= 3000]"
   ]
  },
  {
   "cell_type": "code",
   "execution_count": 12,
   "metadata": {
    "scrolled": true
   },
   "outputs": [
    {
     "data": {
      "text/plain": [
       "<matplotlib.axes._subplots.AxesSubplot at 0x28728482470>"
      ]
     },
     "execution_count": 12,
     "metadata": {},
     "output_type": "execute_result"
    },
    {
     "data": {
      "image/png": "[encoded data removed]",
      "text/plain": [
       "<Figure size 432x288 with 1 Axes>"
      ]
     },
     "metadata": {
      "needs_background": "light"
     },
     "output_type": "display_data"
    }
   ],
   "source": [
    "sns.boxplot(x=df[\"Gr Liv Area\"])"
   ]
  },
  {
   "cell_type": "code",
   "execution_count": 13,
   "metadata": {},
   "outputs": [],
   "source": [
    "#a cluster of values still are within 3500 so they are still considered within the acceptable range\n",
    "df = df[df[\"Gr Liv Area\"]<= 3500]"
   ]
  },
  {
   "cell_type": "code",
   "execution_count": 14,
   "metadata": {},
   "outputs": [
    {
     "data": {
      "text/plain": [
       "<matplotlib.axes._subplots.AxesSubplot at 0x287284e2358>"
      ]
     },
     "execution_count": 14,
     "metadata": {},
     "output_type": "execute_result"
    },
    {
     "data": {
      "image/png": "[encoded data removed]",
      "text/plain": [
       "<Figure size 432x288 with 1 Axes>"
      ]
     },
     "metadata": {
      "needs_background": "light"
     },
     "output_type": "display_data"
    }
   ],
   "source": [
    "sns.boxplot(x=df[\"Garage Area\"])\n"
   ]
  },
  {
   "cell_type": "code",
   "execution_count": 15,
   "metadata": {},
   "outputs": [
    {
     "data": {
      "text/plain": [
       "<matplotlib.axes._subplots.AxesSubplot at 0x2872853d8d0>"
      ]
     },
     "execution_count": 15,
     "metadata": {},
     "output_type": "execute_result"
    },
    {
     "data": {
      "image/png": "[encoded data removed]",
      "text/plain": [
       "<Figure size 432x288 with 1 Axes>"
      ]
     },
     "metadata": {
      "needs_background": "light"
     },
     "output_type": "display_data"
    }
   ],
   "source": [
    "sns.boxplot(x=df[\"Garage Yr Blt\"])"
   ]
  },
  {
   "cell_type": "code",
   "execution_count": 16,
   "metadata": {},
   "outputs": [],
   "source": [
    "#one value has been wrong entered as the year 2200 so is removed\n",
    "\n",
    "df = df[df[\"Garage Yr Blt\"]<= 2019]"
   ]
  },
  {
   "cell_type": "code",
   "execution_count": 17,
   "metadata": {},
   "outputs": [],
   "source": [
    "df['Garage Yr Blt'].fillna(df['Year Built'], inplace=True)\n",
    "#the null value in the garage built year is being filled with the same year the house was built."
   ]
  },
  {
   "cell_type": "code",
   "execution_count": 18,
   "metadata": {},
   "outputs": [
    {
     "data": {
      "text/plain": [
       "0    1976.0\n",
       "1    1997.0\n",
       "2    1953.0\n",
       "3    2007.0\n",
       "4    1957.0\n",
       "Name: Garage Yr Blt, dtype: float64"
      ]
     },
     "execution_count": 18,
     "metadata": {},
     "output_type": "execute_result"
    }
   ],
   "source": [
    "df[\"Garage Yr Blt\"].head() "
   ]
  },
  {
   "cell_type": "code",
   "execution_count": 19,
   "metadata": {},
   "outputs": [
    {
     "data": {
      "text/plain": [
       "<matplotlib.axes._subplots.AxesSubplot at 0x287285a9240>"
      ]
     },
     "execution_count": 19,
     "metadata": {},
     "output_type": "execute_result"
    },
    {
     "data": {
      "image/png": "[encoded data removed]",
      "text/plain": [
       "<Figure size 432x288 with 1 Axes>"
      ]
     },
     "metadata": {
      "needs_background": "light"
     },
     "output_type": "display_data"
    }
   ],
   "source": [
    "df = df[df[\"Garage Yr Blt\"]>= 1900]\n",
    "#this entry is too old\n",
    "sns.boxplot(x=df[\"Garage Yr Blt\"])\n",
    "#checking to see if there are any more outliers"
   ]
  },
  {
   "cell_type": "code",
   "execution_count": 20,
   "metadata": {},
   "outputs": [
    {
     "data": {
      "text/plain": [
       "<matplotlib.axes._subplots.AxesSubplot at 0x2872859b6a0>"
      ]
     },
     "execution_count": 20,
     "metadata": {},
     "output_type": "execute_result"
    },
    {
     "data": {
      "image/png": "[encoded data removed]",
      "text/plain": [
       "<Figure size 432x288 with 1 Axes>"
      ]
     },
     "metadata": {
      "needs_background": "light"
     },
     "output_type": "display_data"
    }
   ],
   "source": [
    "sns.boxplot(x=df[\"Mas Vnr Area\"])"
   ]
  },
  {
   "cell_type": "code",
   "execution_count": 21,
   "metadata": {},
   "outputs": [],
   "source": [
    "df = df[df[\"Mas Vnr Area\"]<= 1000]\n",
    "#one wrongly entered value"
   ]
  },
  {
   "cell_type": "code",
   "execution_count": 22,
   "metadata": {},
   "outputs": [
    {
     "data": {
      "text/plain": [
       "<matplotlib.axes._subplots.AxesSubplot at 0x28728b92da0>"
      ]
     },
     "execution_count": 22,
     "metadata": {},
     "output_type": "execute_result"
    },
    {
     "data": {
      "image/png": "[encoded data removed]",
      "text/plain": [
       "<Figure size 432x288 with 1 Axes>"
      ]
     },
     "metadata": {
      "needs_background": "light"
     },
     "output_type": "display_data"
    }
   ],
   "source": [
    "sns.boxplot(x=df[\"Year Remod/Add\"])\n",
    "#no outliers"
   ]
  },
  {
   "cell_type": "code",
   "execution_count": 23,
   "metadata": {},
   "outputs": [
    {
     "data": {
      "text/plain": [
       "<matplotlib.axes._subplots.AxesSubplot at 0x287285f6a20>"
      ]
     },
     "execution_count": 23,
     "metadata": {},
     "output_type": "execute_result"
    },
    {
     "data": {
      "image/png": "[encoded data removed]",
      "text/plain": [
       "<Figure size 432x288 with 1 Axes>"
      ]
     },
     "metadata": {
      "needs_background": "light"
     },
     "output_type": "display_data"
    }
   ],
   "source": [
    "sns.boxplot(x=df[\"Year Built\"])"
   ]
  },
  {
   "cell_type": "code",
   "execution_count": 24,
   "metadata": {},
   "outputs": [],
   "source": [
    "df = df[df[\"Year Built\"]>= 1890]\n",
    "#these entries are too old to be considered"
   ]
  },
  {
   "cell_type": "code",
   "execution_count": 25,
   "metadata": {},
   "outputs": [
    {
     "data": {
      "text/plain": [
       "<matplotlib.axes._subplots.AxesSubplot at 0x28729c12198>"
      ]
     },
     "execution_count": 25,
     "metadata": {},
     "output_type": "execute_result"
    },
    {
     "data": {
      "image/png": "[encoded data removed]",
      "text/plain": [
       "<Figure size 432x288 with 1 Axes>"
      ]
     },
     "metadata": {
      "needs_background": "light"
     },
     "output_type": "display_data"
    }
   ],
   "source": [
    "sns.boxplot(x=df[\"Year Built\"])\n",
    "#no outliers"
   ]
  },
  {
   "cell_type": "code",
   "execution_count": 26,
   "metadata": {},
   "outputs": [],
   "source": [
    "#Feature Engineering\n",
    "df[\"House Age\"] = df[\"Year Remod/Add\"] - df[\"Year Built\"]"
   ]
  },
  {
   "cell_type": "code",
   "execution_count": 27,
   "metadata": {},
   "outputs": [
    {
     "data": {
      "text/html": [
       "<div>\n",
       "<style scoped>\n",
       "    .dataframe tbody tr th:only-of-type {\n",
       "        vertical-align: middle;\n",
       "    }\n",
       "\n",
       "    .dataframe tbody tr th {\n",
       "        vertical-align: top;\n",
       "    }\n",
       "\n",
       "    .dataframe thead th {\n",
       "        text-align: right;\n",
       "    }\n",
       "</style>\n",
       "<table border=\"1\" class=\"dataframe\">\n",
       "  <thead>\n",
       "    <tr style=\"text-align: right;\">\n",
       "      <th></th>\n",
       "      <th>Overall Qual</th>\n",
       "      <th>Total Bsmt SF</th>\n",
       "      <th>1st Flr SF</th>\n",
       "      <th>Gr Liv Area</th>\n",
       "      <th>Garage Cars</th>\n",
       "      <th>Garage Area</th>\n",
       "      <th>Garage Yr Blt</th>\n",
       "      <th>TotRms AbvGrd</th>\n",
       "      <th>Full Bath</th>\n",
       "      <th>Mas Vnr Area</th>\n",
       "      <th>Year Remod/Add</th>\n",
       "      <th>Year Built</th>\n",
       "      <th>SalePrice</th>\n",
       "      <th>2nd Flr SF</th>\n",
       "      <th>Bsmt Unf SF</th>\n",
       "      <th>MS Zoning</th>\n",
       "      <th>Street</th>\n",
       "      <th>Kitchen Qual</th>\n",
       "      <th>Exter Qual</th>\n",
       "      <th>House Age</th>\n",
       "    </tr>\n",
       "  </thead>\n",
       "  <tbody>\n",
       "    <tr>\n",
       "      <th>0</th>\n",
       "      <td>6</td>\n",
       "      <td>725.0</td>\n",
       "      <td>725</td>\n",
       "      <td>1479</td>\n",
       "      <td>2.0</td>\n",
       "      <td>475.0</td>\n",
       "      <td>1976.0</td>\n",
       "      <td>6</td>\n",
       "      <td>2</td>\n",
       "      <td>289.0</td>\n",
       "      <td>2005</td>\n",
       "      <td>1976</td>\n",
       "      <td>130500</td>\n",
       "      <td>754</td>\n",
       "      <td>192.0</td>\n",
       "      <td>RL</td>\n",
       "      <td>Pave</td>\n",
       "      <td>Gd</td>\n",
       "      <td>Gd</td>\n",
       "      <td>29</td>\n",
       "    </tr>\n",
       "    <tr>\n",
       "      <th>1</th>\n",
       "      <td>7</td>\n",
       "      <td>913.0</td>\n",
       "      <td>913</td>\n",
       "      <td>2122</td>\n",
       "      <td>2.0</td>\n",
       "      <td>559.0</td>\n",
       "      <td>1997.0</td>\n",
       "      <td>8</td>\n",
       "      <td>2</td>\n",
       "      <td>132.0</td>\n",
       "      <td>1997</td>\n",
       "      <td>1996</td>\n",
       "      <td>220000</td>\n",
       "      <td>1209</td>\n",
       "      <td>276.0</td>\n",
       "      <td>RL</td>\n",
       "      <td>Pave</td>\n",
       "      <td>Gd</td>\n",
       "      <td>Gd</td>\n",
       "      <td>1</td>\n",
       "    </tr>\n",
       "    <tr>\n",
       "      <th>2</th>\n",
       "      <td>5</td>\n",
       "      <td>1057.0</td>\n",
       "      <td>1057</td>\n",
       "      <td>1057</td>\n",
       "      <td>1.0</td>\n",
       "      <td>246.0</td>\n",
       "      <td>1953.0</td>\n",
       "      <td>5</td>\n",
       "      <td>1</td>\n",
       "      <td>0.0</td>\n",
       "      <td>2007</td>\n",
       "      <td>1953</td>\n",
       "      <td>109000</td>\n",
       "      <td>0</td>\n",
       "      <td>326.0</td>\n",
       "      <td>RL</td>\n",
       "      <td>Pave</td>\n",
       "      <td>Gd</td>\n",
       "      <td>TA</td>\n",
       "      <td>54</td>\n",
       "    </tr>\n",
       "    <tr>\n",
       "      <th>3</th>\n",
       "      <td>5</td>\n",
       "      <td>384.0</td>\n",
       "      <td>744</td>\n",
       "      <td>1444</td>\n",
       "      <td>2.0</td>\n",
       "      <td>400.0</td>\n",
       "      <td>2007.0</td>\n",
       "      <td>7</td>\n",
       "      <td>2</td>\n",
       "      <td>0.0</td>\n",
       "      <td>2007</td>\n",
       "      <td>2006</td>\n",
       "      <td>174000</td>\n",
       "      <td>700</td>\n",
       "      <td>384.0</td>\n",
       "      <td>RL</td>\n",
       "      <td>Pave</td>\n",
       "      <td>TA</td>\n",
       "      <td>TA</td>\n",
       "      <td>1</td>\n",
       "    </tr>\n",
       "    <tr>\n",
       "      <th>4</th>\n",
       "      <td>6</td>\n",
       "      <td>676.0</td>\n",
       "      <td>831</td>\n",
       "      <td>1445</td>\n",
       "      <td>2.0</td>\n",
       "      <td>484.0</td>\n",
       "      <td>1957.0</td>\n",
       "      <td>6</td>\n",
       "      <td>2</td>\n",
       "      <td>0.0</td>\n",
       "      <td>1993</td>\n",
       "      <td>1900</td>\n",
       "      <td>138500</td>\n",
       "      <td>614</td>\n",
       "      <td>676.0</td>\n",
       "      <td>RL</td>\n",
       "      <td>Pave</td>\n",
       "      <td>TA</td>\n",
       "      <td>TA</td>\n",
       "      <td>93</td>\n",
       "    </tr>\n",
       "  </tbody>\n",
       "</table>\n",
       "</div>"
      ],
      "text/plain": [
       "   Overall Qual  Total Bsmt SF  1st Flr SF  Gr Liv Area  Garage Cars  \\\n",
       "0             6          725.0         725         1479          2.0   \n",
       "1             7          913.0         913         2122          2.0   \n",
       "2             5         1057.0        1057         1057          1.0   \n",
       "3             5          384.0         744         1444          2.0   \n",
       "4             6          676.0         831         1445          2.0   \n",
       "\n",
       "   Garage Area  Garage Yr Blt  TotRms AbvGrd  Full Bath  Mas Vnr Area  \\\n",
       "0        475.0         1976.0              6          2         289.0   \n",
       "1        559.0         1997.0              8          2         132.0   \n",
       "2        246.0         1953.0              5          1           0.0   \n",
       "3        400.0         2007.0              7          2           0.0   \n",
       "4        484.0         1957.0              6          2           0.0   \n",
       "\n",
       "   Year Remod/Add  Year Built  SalePrice  2nd Flr SF  Bsmt Unf SF MS Zoning  \\\n",
       "0            2005        1976     130500         754        192.0        RL   \n",
       "1            1997        1996     220000        1209        276.0        RL   \n",
       "2            2007        1953     109000           0        326.0        RL   \n",
       "3            2007        2006     174000         700        384.0        RL   \n",
       "4            1993        1900     138500         614        676.0        RL   \n",
       "\n",
       "  Street Kitchen Qual Exter Qual  House Age  \n",
       "0   Pave           Gd         Gd         29  \n",
       "1   Pave           Gd         Gd          1  \n",
       "2   Pave           Gd         TA         54  \n",
       "3   Pave           TA         TA          1  \n",
       "4   Pave           TA         TA         93  "
      ]
     },
     "execution_count": 27,
     "metadata": {},
     "output_type": "execute_result"
    }
   ],
   "source": [
    "df.head()\n",
    "#checking to see if my new feature has been added"
   ]
  },
  {
   "cell_type": "code",
   "execution_count": 28,
   "metadata": {},
   "outputs": [
    {
     "data": {
      "text/plain": [
       "Overall Qual      0\n",
       "Total Bsmt SF     1\n",
       "1st Flr SF        0\n",
       "Gr Liv Area       0\n",
       "Garage Cars       0\n",
       "Garage Area       0\n",
       "Garage Yr Blt     0\n",
       "TotRms AbvGrd     0\n",
       "Full Bath         0\n",
       "Mas Vnr Area      0\n",
       "Year Remod/Add    0\n",
       "Year Built        0\n",
       "SalePrice         0\n",
       "2nd Flr SF        0\n",
       "Bsmt Unf SF       1\n",
       "MS Zoning         0\n",
       "Street            0\n",
       "Kitchen Qual      0\n",
       "Exter Qual        0\n",
       "House Age         0\n",
       "dtype: int64"
      ]
     },
     "execution_count": 28,
     "metadata": {},
     "output_type": "execute_result"
    }
   ],
   "source": [
    "df.isnull().sum()\n",
    "#checking to see if ther are still any null values left"
   ]
  },
  {
   "cell_type": "code",
   "execution_count": 29,
   "metadata": {},
   "outputs": [],
   "source": [
    "df.dropna(subset=['Total Bsmt SF'], inplace=True)\n",
    "#dropping the 1 null value"
   ]
  },
  {
   "cell_type": "code",
   "execution_count": 30,
   "metadata": {},
   "outputs": [
    {
     "data": {
      "text/plain": [
       "Overall Qual      0\n",
       "Total Bsmt SF     0\n",
       "1st Flr SF        0\n",
       "Gr Liv Area       0\n",
       "Garage Cars       0\n",
       "Garage Area       0\n",
       "Garage Yr Blt     0\n",
       "TotRms AbvGrd     0\n",
       "Full Bath         0\n",
       "Mas Vnr Area      0\n",
       "Year Remod/Add    0\n",
       "Year Built        0\n",
       "SalePrice         0\n",
       "2nd Flr SF        0\n",
       "Bsmt Unf SF       0\n",
       "MS Zoning         0\n",
       "Street            0\n",
       "Kitchen Qual      0\n",
       "Exter Qual        0\n",
       "House Age         0\n",
       "dtype: int64"
      ]
     },
     "execution_count": 30,
     "metadata": {},
     "output_type": "execute_result"
    }
   ],
   "source": [
    "df.isnull().sum()\n",
    "#no null values"
   ]
  },
  {
   "cell_type": "code",
   "execution_count": 31,
   "metadata": {},
   "outputs": [],
   "source": [
    "from sklearn.model_selection import train_test_split\n"
   ]
  },
  {
   "cell_type": "markdown",
   "metadata": {},
   "source": [
    "Introducing Interaction columns"
   ]
  },
  {
   "cell_type": "code",
   "execution_count": 32,
   "metadata": {},
   "outputs": [],
   "source": [
    "df[\"Interaction_Column1\"] = df[\"Garage Yr Blt\"]* df[\"Garage Yr Blt\"]"
   ]
  },
  {
   "cell_type": "code",
   "execution_count": 33,
   "metadata": {},
   "outputs": [],
   "source": [
    "df[\"Interaction_column2\"] = df[\"Gr Liv Area\"]*df[\"2nd Flr SF\"]"
   ]
  },
  {
   "cell_type": "code",
   "execution_count": 34,
   "metadata": {},
   "outputs": [],
   "source": [
    "df[\"Interaction_column3\"] = df[\"Total Bsmt SF\"]*df[\"Bsmt Unf SF\"]"
   ]
  },
  {
   "cell_type": "markdown",
   "metadata": {},
   "source": [
    "Creating the target matrix"
   ]
  },
  {
   "cell_type": "code",
   "execution_count": 35,
   "metadata": {},
   "outputs": [],
   "source": [
    "Y = df[\"SalePrice\"]"
   ]
  },
  {
   "cell_type": "code",
   "execution_count": 36,
   "metadata": {},
   "outputs": [
    {
     "data": {
      "text/plain": [
       "<matplotlib.axes._subplots.AxesSubplot at 0x28729bc52e8>"
      ]
     },
     "execution_count": 36,
     "metadata": {},
     "output_type": "execute_result"
    },
    {
     "data": {
      "image/png": "[encoded data removed]",
      "text/plain": [
       "<Figure size 1152x432 with 2 Axes>"
      ]
     },
     "metadata": {
      "needs_background": "light"
     },
     "output_type": "display_data"
    }
   ],
   "source": [
    "plt.figure(figsize=(16, 6))\n",
    "sns.heatmap(df.corr(),annot=True)\n",
    "#high co-relation between all the features"
   ]
  },
  {
   "cell_type": "markdown",
   "metadata": {},
   "source": [
    "Dropping the target feature from the feature matrix and removing unnecessary features added while creating the interaction columns"
   ]
  },
  {
   "cell_type": "code",
   "execution_count": 37,
   "metadata": {},
   "outputs": [],
   "source": [
    "df = df.drop(columns=[\"SalePrice\",\"House Age\"])"
   ]
  },
  {
   "cell_type": "markdown",
   "metadata": {},
   "source": [
    "Choosing non-numerical features using the cramers-V test:"
   ]
  },
  {
   "cell_type": "code",
   "execution_count": 38,
   "metadata": {},
   "outputs": [],
   "source": [
    "def cramers_v(x, y):\n",
    "    confusion_matrix = pd.crosstab(x,y)\n",
    "    chi2 = ss.chi2_contingency(confusion_matrix)[0]\n",
    "    n = confusion_matrix.sum().sum()\n",
    "    phi2 = chi2/n\n",
    "    r,k = confusion_matrix.shape\n",
    "    phi2corr = max(0, phi2-((k-1)*(r-1))/(n-1))\n",
    "    rcorr = r-((r-1)**2)/(n-1)\n",
    "    kcorr = k-((k-1)**2)/(n-1)\n",
    "    return np.sqrt(phi2corr/min((kcorr-1),(rcorr-1)))"
   ]
  },
  {
   "cell_type": "code",
   "execution_count": 39,
   "metadata": {},
   "outputs": [],
   "source": [
    "import scipy.stats as ss\n",
    "import matplotlib.pyplot as plt\n",
    "from collections import Counter"
   ]
  },
  {
   "cell_type": "code",
   "execution_count": 40,
   "metadata": {},
   "outputs": [],
   "source": [
    "cols = train.select_dtypes(include =['object']).columns"
   ]
  },
  {
   "cell_type": "code",
   "execution_count": 41,
   "metadata": {},
   "outputs": [
    {
     "name": "stdout",
     "output_type": "stream",
     "text": [
      "MS Zoning 0.4910128406275723\n",
      "Street 0.6554063343889912\n",
      "Alley 0.3208464869059024\n",
      "Lot Shape 0.21449465290601197\n",
      "Land Contour 0.24861413248953101\n",
      "Utilities 0.3827645252978659\n",
      "Lot Config 0.0\n",
      "Land Slope 0.16111602233091457\n",
      "Neighborhood 0.13112141422344822\n",
      "Condition 1 0.06407225689036647\n",
      "Condition 2 0.2951622376103838\n",
      "Bldg Type 0.0\n",
      "House Style 0.0\n",
      "Roof Style 0.0\n",
      "Roof Matl 0.034605478710593794\n",
      "Exterior 1st 0.3025483363012138\n",
      "Exterior 2nd 0.0\n",
      "Mas Vnr Type 0.2501068469230645\n",
      "Exter Qual 0.5223539124900954\n",
      "Exter Cond 0.2538171393762235\n",
      "Foundation 0.40944753215066143\n",
      "Bsmt Qual 0.3532376588552363\n",
      "Bsmt Cond 0.24352376164440281\n",
      "Bsmt Exposure 0.26690652285123767\n",
      "BsmtFin Type 1 0.0\n",
      "BsmtFin Type 2 0.0\n",
      "Heating 0.0\n",
      "Heating QC 0.24057279991021044\n",
      "Central Air 0.349020209273001\n",
      "Electrical 0.2501239541496037\n",
      "Kitchen Qual 0.463968965747128\n",
      "Functional 0.3390825329769578\n",
      "Fireplace Qu 0.14034309862684485\n",
      "Garage Type 0.13562132662110854\n",
      "Garage Finish 0.3548827501892797\n",
      "Garage Qual 0.4015573147127524\n",
      "Garage Cond 0.17901312372894576\n",
      "Paved Drive 0.15602050847029422\n",
      "Pool QC nan\n",
      "Fence 0.0\n",
      "Misc Feature 0.21821789023599253\n"
     ]
    },
    {
     "name": "stderr",
     "output_type": "stream",
     "text": [
      "C:\\Users\\Shruthi\\Anaconda3\\lib\\site-packages\\ipykernel_launcher.py:10: RuntimeWarning: invalid value encountered in double_scalars\n",
      "  # Remove the CWD from sys.path while we load stuff.\n"
     ]
    },
    {
     "name": "stdout",
     "output_type": "stream",
     "text": [
      "Sale Type 0.26871934055591534\n"
     ]
    }
   ],
   "source": [
    "for index1, c1 in enumerate(cols):\n",
    "    print(c1, cramers_v(train[c1],train['SalePrice']))"
   ]
  },
  {
   "cell_type": "markdown",
   "metadata": {},
   "source": [
    "I am going to pick the features that have a co-relation of close to 0.5 with the sale price\n",
    "\n",
    "and those are:\n",
    "\n",
    "1. MS ZONING\n",
    "2. STREET\n",
    "3. Exterior Quality\n",
    "4. Kitchen Quality"
   ]
  },
  {
   "cell_type": "markdown",
   "metadata": {},
   "source": [
    "These features have been added to the dataframe on top"
   ]
  },
  {
   "cell_type": "markdown",
   "metadata": {},
   "source": [
    "These non-numerical features have to be converted to numerical features by one-hot encoding"
   ]
  },
  {
   "cell_type": "code",
   "execution_count": 42,
   "metadata": {
    "scrolled": true
   },
   "outputs": [
    {
     "name": "stderr",
     "output_type": "stream",
     "text": [
      "C:\\Users\\Shruthi\\Anaconda3\\lib\\site-packages\\sklearn\\preprocessing\\label.py:235: DataConversionWarning: A column-vector y was passed when a 1d array was expected. Please change the shape of y to (n_samples, ), for example using ravel().\n",
      "  y = column_or_1d(y, warn=True)\n",
      "C:\\Users\\Shruthi\\Anaconda3\\lib\\site-packages\\sklearn\\preprocessing\\label.py:235: DataConversionWarning: A column-vector y was passed when a 1d array was expected. Please change the shape of y to (n_samples, ), for example using ravel().\n",
      "  y = column_or_1d(y, warn=True)\n",
      "C:\\Users\\Shruthi\\Anaconda3\\lib\\site-packages\\sklearn\\preprocessing\\label.py:235: DataConversionWarning: A column-vector y was passed when a 1d array was expected. Please change the shape of y to (n_samples, ), for example using ravel().\n",
      "  y = column_or_1d(y, warn=True)\n",
      "C:\\Users\\Shruthi\\Anaconda3\\lib\\site-packages\\sklearn\\preprocessing\\label.py:235: DataConversionWarning: A column-vector y was passed when a 1d array was expected. Please change the shape of y to (n_samples, ), for example using ravel().\n",
      "  y = column_or_1d(y, warn=True)\n",
      "C:\\Users\\Shruthi\\Anaconda3\\lib\\site-packages\\sklearn\\preprocessing\\label.py:235: DataConversionWarning: A column-vector y was passed when a 1d array was expected. Please change the shape of y to (n_samples, ), for example using ravel().\n",
      "  y = column_or_1d(y, warn=True)\n"
     ]
    }
   ],
   "source": [
    "from sklearn.preprocessing import LabelEncoder\n",
    "le = LabelEncoder()\n",
    "df['MS Zoning']=le.fit_transform(df[['MS Zoning']])\n",
    "df['Street']=le.fit_transform(df[['Street']])\n",
    "df[\"Exter Qual\"]=le.fit_transform(df[[\"Exter Qual\"]])\n",
    "df[\"Kitchen Qual\"]=le.fit_transform(df[[\"Kitchen Qual\"]])\n",
    "df[\"Kitchen Qual\"]=le.fit_transform(df[[\"Kitchen Qual\"]])"
   ]
  },
  {
   "cell_type": "code",
   "execution_count": 43,
   "metadata": {},
   "outputs": [
    {
     "data": {
      "text/html": [
       "<div>\n",
       "<style scoped>\n",
       "    .dataframe tbody tr th:only-of-type {\n",
       "        vertical-align: middle;\n",
       "    }\n",
       "\n",
       "    .dataframe tbody tr th {\n",
       "        vertical-align: top;\n",
       "    }\n",
       "\n",
       "    .dataframe thead th {\n",
       "        text-align: right;\n",
       "    }\n",
       "</style>\n",
       "<table border=\"1\" class=\"dataframe\">\n",
       "  <thead>\n",
       "    <tr style=\"text-align: right;\">\n",
       "      <th></th>\n",
       "      <th>Overall Qual</th>\n",
       "      <th>Total Bsmt SF</th>\n",
       "      <th>1st Flr SF</th>\n",
       "      <th>Gr Liv Area</th>\n",
       "      <th>Garage Cars</th>\n",
       "      <th>Garage Area</th>\n",
       "      <th>Garage Yr Blt</th>\n",
       "      <th>TotRms AbvGrd</th>\n",
       "      <th>Full Bath</th>\n",
       "      <th>Mas Vnr Area</th>\n",
       "      <th>...</th>\n",
       "      <th>Year Built</th>\n",
       "      <th>2nd Flr SF</th>\n",
       "      <th>Bsmt Unf SF</th>\n",
       "      <th>MS Zoning</th>\n",
       "      <th>Street</th>\n",
       "      <th>Kitchen Qual</th>\n",
       "      <th>Exter Qual</th>\n",
       "      <th>Interaction_Column1</th>\n",
       "      <th>Interaction_column2</th>\n",
       "      <th>Interaction_column3</th>\n",
       "    </tr>\n",
       "  </thead>\n",
       "  <tbody>\n",
       "    <tr>\n",
       "      <th>0</th>\n",
       "      <td>6</td>\n",
       "      <td>725.0</td>\n",
       "      <td>725</td>\n",
       "      <td>1479</td>\n",
       "      <td>2.0</td>\n",
       "      <td>475.0</td>\n",
       "      <td>1976.0</td>\n",
       "      <td>6</td>\n",
       "      <td>2</td>\n",
       "      <td>289.0</td>\n",
       "      <td>...</td>\n",
       "      <td>1976</td>\n",
       "      <td>754</td>\n",
       "      <td>192.0</td>\n",
       "      <td>4</td>\n",
       "      <td>1</td>\n",
       "      <td>2</td>\n",
       "      <td>2</td>\n",
       "      <td>3904576.0</td>\n",
       "      <td>1115166</td>\n",
       "      <td>139200.0</td>\n",
       "    </tr>\n",
       "    <tr>\n",
       "      <th>1</th>\n",
       "      <td>7</td>\n",
       "      <td>913.0</td>\n",
       "      <td>913</td>\n",
       "      <td>2122</td>\n",
       "      <td>2.0</td>\n",
       "      <td>559.0</td>\n",
       "      <td>1997.0</td>\n",
       "      <td>8</td>\n",
       "      <td>2</td>\n",
       "      <td>132.0</td>\n",
       "      <td>...</td>\n",
       "      <td>1996</td>\n",
       "      <td>1209</td>\n",
       "      <td>276.0</td>\n",
       "      <td>4</td>\n",
       "      <td>1</td>\n",
       "      <td>2</td>\n",
       "      <td>2</td>\n",
       "      <td>3988009.0</td>\n",
       "      <td>2565498</td>\n",
       "      <td>251988.0</td>\n",
       "    </tr>\n",
       "    <tr>\n",
       "      <th>2</th>\n",
       "      <td>5</td>\n",
       "      <td>1057.0</td>\n",
       "      <td>1057</td>\n",
       "      <td>1057</td>\n",
       "      <td>1.0</td>\n",
       "      <td>246.0</td>\n",
       "      <td>1953.0</td>\n",
       "      <td>5</td>\n",
       "      <td>1</td>\n",
       "      <td>0.0</td>\n",
       "      <td>...</td>\n",
       "      <td>1953</td>\n",
       "      <td>0</td>\n",
       "      <td>326.0</td>\n",
       "      <td>4</td>\n",
       "      <td>1</td>\n",
       "      <td>2</td>\n",
       "      <td>3</td>\n",
       "      <td>3814209.0</td>\n",
       "      <td>0</td>\n",
       "      <td>344582.0</td>\n",
       "    </tr>\n",
       "    <tr>\n",
       "      <th>3</th>\n",
       "      <td>5</td>\n",
       "      <td>384.0</td>\n",
       "      <td>744</td>\n",
       "      <td>1444</td>\n",
       "      <td>2.0</td>\n",
       "      <td>400.0</td>\n",
       "      <td>2007.0</td>\n",
       "      <td>7</td>\n",
       "      <td>2</td>\n",
       "      <td>0.0</td>\n",
       "      <td>...</td>\n",
       "      <td>2006</td>\n",
       "      <td>700</td>\n",
       "      <td>384.0</td>\n",
       "      <td>4</td>\n",
       "      <td>1</td>\n",
       "      <td>3</td>\n",
       "      <td>3</td>\n",
       "      <td>4028049.0</td>\n",
       "      <td>1010800</td>\n",
       "      <td>147456.0</td>\n",
       "    </tr>\n",
       "    <tr>\n",
       "      <th>4</th>\n",
       "      <td>6</td>\n",
       "      <td>676.0</td>\n",
       "      <td>831</td>\n",
       "      <td>1445</td>\n",
       "      <td>2.0</td>\n",
       "      <td>484.0</td>\n",
       "      <td>1957.0</td>\n",
       "      <td>6</td>\n",
       "      <td>2</td>\n",
       "      <td>0.0</td>\n",
       "      <td>...</td>\n",
       "      <td>1900</td>\n",
       "      <td>614</td>\n",
       "      <td>676.0</td>\n",
       "      <td>4</td>\n",
       "      <td>1</td>\n",
       "      <td>3</td>\n",
       "      <td>3</td>\n",
       "      <td>3829849.0</td>\n",
       "      <td>887230</td>\n",
       "      <td>456976.0</td>\n",
       "    </tr>\n",
       "  </tbody>\n",
       "</table>\n",
       "<p>5 rows × 21 columns</p>\n",
       "</div>"
      ],
      "text/plain": [
       "   Overall Qual  Total Bsmt SF  1st Flr SF  Gr Liv Area  Garage Cars  \\\n",
       "0             6          725.0         725         1479          2.0   \n",
       "1             7          913.0         913         2122          2.0   \n",
       "2             5         1057.0        1057         1057          1.0   \n",
       "3             5          384.0         744         1444          2.0   \n",
       "4             6          676.0         831         1445          2.0   \n",
       "\n",
       "   Garage Area  Garage Yr Blt  TotRms AbvGrd  Full Bath  Mas Vnr Area  ...  \\\n",
       "0        475.0         1976.0              6          2         289.0  ...   \n",
       "1        559.0         1997.0              8          2         132.0  ...   \n",
       "2        246.0         1953.0              5          1           0.0  ...   \n",
       "3        400.0         2007.0              7          2           0.0  ...   \n",
       "4        484.0         1957.0              6          2           0.0  ...   \n",
       "\n",
       "   Year Built  2nd Flr SF  Bsmt Unf SF  MS Zoning  Street  Kitchen Qual  \\\n",
       "0        1976         754        192.0          4       1             2   \n",
       "1        1996        1209        276.0          4       1             2   \n",
       "2        1953           0        326.0          4       1             2   \n",
       "3        2006         700        384.0          4       1             3   \n",
       "4        1900         614        676.0          4       1             3   \n",
       "\n",
       "   Exter Qual  Interaction_Column1  Interaction_column2  Interaction_column3  \n",
       "0           2            3904576.0              1115166             139200.0  \n",
       "1           2            3988009.0              2565498             251988.0  \n",
       "2           3            3814209.0                    0             344582.0  \n",
       "3           3            4028049.0              1010800             147456.0  \n",
       "4           3            3829849.0               887230             456976.0  \n",
       "\n",
       "[5 rows x 21 columns]"
      ]
     },
     "execution_count": 43,
     "metadata": {},
     "output_type": "execute_result"
    }
   ],
   "source": [
    "df.head()\n",
    "#all non-numerical features have been converted to numerical features"
   ]
  },
  {
   "cell_type": "code",
   "execution_count": 44,
   "metadata": {},
   "outputs": [
    {
     "name": "stdout",
     "output_type": "stream",
     "text": [
      "<class 'pandas.core.frame.DataFrame'>\n",
      "Int64Index: 1892 entries, 0 to 2050\n",
      "Data columns (total 21 columns):\n",
      "Overall Qual           1892 non-null int64\n",
      "Total Bsmt SF          1892 non-null float64\n",
      "1st Flr SF             1892 non-null int64\n",
      "Gr Liv Area            1892 non-null int64\n",
      "Garage Cars            1892 non-null float64\n",
      "Garage Area            1892 non-null float64\n",
      "Garage Yr Blt          1892 non-null float64\n",
      "TotRms AbvGrd          1892 non-null int64\n",
      "Full Bath              1892 non-null int64\n",
      "Mas Vnr Area           1892 non-null float64\n",
      "Year Remod/Add         1892 non-null int64\n",
      "Year Built             1892 non-null int64\n",
      "2nd Flr SF             1892 non-null int64\n",
      "Bsmt Unf SF            1892 non-null float64\n",
      "MS Zoning              1892 non-null int32\n",
      "Street                 1892 non-null int32\n",
      "Kitchen Qual           1892 non-null int64\n",
      "Exter Qual             1892 non-null int32\n",
      "Interaction_Column1    1892 non-null float64\n",
      "Interaction_column2    1892 non-null int64\n",
      "Interaction_column3    1892 non-null float64\n",
      "dtypes: float64(8), int32(3), int64(10)\n",
      "memory usage: 303.0 KB\n"
     ]
    }
   ],
   "source": [
    "df.info()\n",
    "#checking to see if all my data types are integers/floats"
   ]
  },
  {
   "cell_type": "markdown",
   "metadata": {},
   "source": [
    "# Building the model "
   ]
  },
  {
   "cell_type": "markdown",
   "metadata": {},
   "source": [
    "I am first using simple linear regression to test"
   ]
  },
  {
   "cell_type": "code",
   "execution_count": 45,
   "metadata": {},
   "outputs": [
    {
     "name": "stdout",
     "output_type": "stream",
     "text": [
      "score: 0.8667197024366385\n",
      "cross val score: 0.8756144926745223\n"
     ]
    }
   ],
   "source": [
    "X_train, X_test, y_train, y_test =train_test_split(df,Y,train_size=0.75,test_size=0.25,random_state=123)\n",
    "lm = linear_model.LinearRegression()\n",
    "model = lm.fit(X_train,y_train)\n",
    "predictions = model.predict(X_test)\n",
    "score = model.score(X_test, y_test)\n",
    "print(\"score:\",score)\n",
    "print(\"cross val score:\",cross_val_score(model,X_train,y_train, cv=7).mean())"
   ]
  },
  {
   "cell_type": "markdown",
   "metadata": {},
   "source": [
    "Now I am going to standardize and then check the score"
   ]
  },
  {
   "cell_type": "code",
   "execution_count": 46,
   "metadata": {},
   "outputs": [
    {
     "name": "stdout",
     "output_type": "stream",
     "text": [
      "StandardScaler(copy=True, with_mean=True, with_std=True)\n"
     ]
    },
    {
     "name": "stderr",
     "output_type": "stream",
     "text": [
      "C:\\Users\\Shruthi\\Anaconda3\\lib\\site-packages\\sklearn\\preprocessing\\data.py:645: DataConversionWarning: Data with input dtype int32, int64, float64 were all converted to float64 by StandardScaler.\n",
      "  return self.partial_fit(X, y)\n",
      "C:\\Users\\Shruthi\\Anaconda3\\lib\\site-packages\\ipykernel_launcher.py:5: DataConversionWarning: Data with input dtype int32, int64, float64 were all converted to float64 by StandardScaler.\n",
      "  \"\"\"\n"
     ]
    }
   ],
   "source": [
    "from sklearn.preprocessing import StandardScaler\n",
    "scaler = StandardScaler()\n",
    "print(scaler.fit(df))\n",
    "StandardScaler(copy=True, with_mean=True, with_std=True)\n",
    "standardized_df = scaler.transform(df)"
   ]
  },
  {
   "cell_type": "code",
   "execution_count": 47,
   "metadata": {},
   "outputs": [
    {
     "name": "stdout",
     "output_type": "stream",
     "text": [
      "score: 0.8667197024366341\n",
      "cross val score: 0.8756144926745251\n"
     ]
    }
   ],
   "source": [
    "X_train, X_test, y_train, y_test =train_test_split(standardized_df,Y,train_size=0.75,test_size=0.25,random_state=123)\n",
    "lm = linear_model.LinearRegression()\n",
    "model2 = lm.fit(X_train,y_train)\n",
    "predictions = model2.predict(X_test)\n",
    "score = model2.score(X_test,y_test)\n",
    "print(\"score:\",score)\n",
    "print(\"cross val score:\",cross_val_score(model2,X_train,y_train, cv=7).mean())"
   ]
  },
  {
   "cell_type": "markdown",
   "metadata": {},
   "source": [
    "Standardizing is not imporving the performance"
   ]
  },
  {
   "cell_type": "markdown",
   "metadata": {},
   "source": [
    "Now I am going to try Ridge Regression"
   ]
  },
  {
   "cell_type": "code",
   "execution_count": 48,
   "metadata": {},
   "outputs": [
    {
     "data": {
      "text/plain": [
       "0.8665850425754692"
      ]
     },
     "execution_count": 48,
     "metadata": {},
     "output_type": "execute_result"
    }
   ],
   "source": [
    "#ridge reg model\n",
    "from sklearn.linear_model import Ridge,  LinearRegression, RidgeCV\n",
    "from sklearn.model_selection import cross_val_score\n",
    "\n",
    "alphas = np.logspace(-5, 5, 200)\n",
    "clf = RidgeCV(alphas=alphas).fit(X_train,y_train)\n",
    "clf.predict(X_test)\n",
    "clf.score(X_test,y_test)"
   ]
  },
  {
   "cell_type": "markdown",
   "metadata": {},
   "source": [
    "The model has an accuracy of 86.7 % "
   ]
  },
  {
   "cell_type": "code",
   "execution_count": 49,
   "metadata": {},
   "outputs": [
    {
     "data": {
      "text/plain": [
       "25763.86663017529"
      ]
     },
     "execution_count": 49,
     "metadata": {},
     "output_type": "execute_result"
    }
   ],
   "source": [
    "from sklearn.metrics import mean_squared_error\n",
    "np.sqrt(mean_squared_error(y_test,predictions))"
   ]
  },
  {
   "cell_type": "markdown",
   "metadata": {},
   "source": [
    "The RMSE of the values are shown above. This is my final submission."
   ]
  },
  {
   "cell_type": "markdown",
   "metadata": {},
   "source": [
    "# Now for the Kaggle Submission"
   ]
  },
  {
   "cell_type": "code",
   "execution_count": 50,
   "metadata": {},
   "outputs": [],
   "source": [
    "test_csv = \"C:/Users/Shruthi/Desktop/classes-students/projects1234/project_2/datasets/test.csv\"\n",
    "test = pd.read_csv(test_csv)"
   ]
  },
  {
   "cell_type": "code",
   "execution_count": 51,
   "metadata": {},
   "outputs": [],
   "source": [
    "test = test[[\"Overall Qual\", \"Total Bsmt SF\",\"1st Flr SF\",\"Gr Liv Area\", \"Garage Cars\", \"Garage Area\", \"Garage Yr Blt\",\"TotRms AbvGrd\",\"Full Bath\" , \"Mas Vnr Area\", \"Year Remod/Add\" ,\"Year Built\",\"2nd Flr SF\",\"Bsmt Unf SF\",\"MS Zoning\",\"Street\",\n",
    "\"Exter Qual\",\"Kitchen Qual\"]]"
   ]
  },
  {
   "cell_type": "code",
   "execution_count": 52,
   "metadata": {},
   "outputs": [],
   "source": [
    "test['Garage Yr Blt'].fillna(test['Year Built'], inplace=True)\n",
    "test['Mas Vnr Area'].fillna(0, inplace=True)"
   ]
  },
  {
   "cell_type": "code",
   "execution_count": 53,
   "metadata": {},
   "outputs": [
    {
     "name": "stderr",
     "output_type": "stream",
     "text": [
      "C:\\Users\\Shruthi\\Anaconda3\\lib\\site-packages\\sklearn\\preprocessing\\label.py:235: DataConversionWarning: A column-vector y was passed when a 1d array was expected. Please change the shape of y to (n_samples, ), for example using ravel().\n",
      "  y = column_or_1d(y, warn=True)\n",
      "C:\\Users\\Shruthi\\Anaconda3\\lib\\site-packages\\sklearn\\preprocessing\\label.py:235: DataConversionWarning: A column-vector y was passed when a 1d array was expected. Please change the shape of y to (n_samples, ), for example using ravel().\n",
      "  y = column_or_1d(y, warn=True)\n",
      "C:\\Users\\Shruthi\\Anaconda3\\lib\\site-packages\\sklearn\\preprocessing\\label.py:235: DataConversionWarning: A column-vector y was passed when a 1d array was expected. Please change the shape of y to (n_samples, ), for example using ravel().\n",
      "  y = column_or_1d(y, warn=True)\n",
      "C:\\Users\\Shruthi\\Anaconda3\\lib\\site-packages\\sklearn\\preprocessing\\label.py:235: DataConversionWarning: A column-vector y was passed when a 1d array was expected. Please change the shape of y to (n_samples, ), for example using ravel().\n",
      "  y = column_or_1d(y, warn=True)\n"
     ]
    }
   ],
   "source": [
    "le = LabelEncoder()\n",
    "test['MS Zoning']=le.fit_transform(test[['MS Zoning']])\n",
    "test['Street']=le.fit_transform(test[['Street']])\n",
    "test[\"Exter Qual\"]=le.fit_transform(test[[\"Exter Qual\"]])\n",
    "test[\"Kitchen Qual\"]=le.fit_transform(test[[\"Kitchen Qual\"]])"
   ]
  },
  {
   "cell_type": "code",
   "execution_count": 54,
   "metadata": {},
   "outputs": [],
   "source": [
    "test[\"Interaction_Column1\"] = test[\"Garage Yr Blt\"]* test[\"Year Built\"]\n",
    "test[\"Interaction_column2\"] = test[\"Gr Liv Area\"]*test[\"2nd Flr SF\"]\n",
    "test[\"Interaction_column3\"] = test[\"Total Bsmt SF\"]*test[\"Bsmt Unf SF\"]"
   ]
  },
  {
   "cell_type": "code",
   "execution_count": 55,
   "metadata": {},
   "outputs": [],
   "source": [
    "final = model.predict(test)\n",
    "final = pd.DataFrame(final)"
   ]
  },
  {
   "cell_type": "code",
   "execution_count": 57,
   "metadata": {},
   "outputs": [],
   "source": [
    "boom_csv = \"C:/Users/Shruthi/Desktop/classes-students/projects1234/project_2/datasets/test.csv\"\n",
    "boom = pd.read_csv(boom_csv)"
   ]
  },
  {
   "cell_type": "code",
   "execution_count": 58,
   "metadata": {},
   "outputs": [],
   "source": [
    "final_kaggle = final.join(boom[\"Id\"], how='outer')\n",
    "final_kaggle = final_kaggle[['Id', 0]]"
   ]
  },
  {
   "cell_type": "code",
   "execution_count": 59,
   "metadata": {},
   "outputs": [],
   "source": [
    "final_kaggle.to_csv('final_kaggle.csv',index=False)"
   ]
  },
  {
   "cell_type": "code",
   "execution_count": null,
   "metadata": {},
   "outputs": [],
   "source": []
  }
 ],
 "metadata": {
  "kernelspec": {
   "display_name": "Python 3",
   "language": "python",
   "name": "python3"
  },
  "language_info": {
   "codemirror_mode": {
    "name": "ipython",
    "version": 3
   },
   "file_extension": ".py",
   "mimetype": "text/x-python",
   "name": "python",
   "nbconvert_exporter": "python",
   "pygments_lexer": "ipython3",
   "version": "3.6.8"
  }
 },
 "nbformat": 4,
 "nbformat_minor": 2
}
